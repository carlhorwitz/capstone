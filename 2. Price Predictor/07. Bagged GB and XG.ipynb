{
 "cells": [
  {
   "cell_type": "markdown",
   "id": "caee5526",
   "metadata": {},
   "source": [
    "# Attempt at ensembling other regressors"
   ]
  },
  {
   "cell_type": "code",
   "execution_count": 79,
   "id": "d3202479",
   "metadata": {},
   "outputs": [],
   "source": [
    "#imports\n",
    "import numpy as np\n",
    "import pandas as pd\n",
    "import matplotlib.pyplot as plt\n",
    "import seaborn as sns\n",
    "import math\n",
    "\n",
    "from sklearn.preprocessing import StandardScaler, OneHotEncoder, PowerTransformer\n",
    "from sklearn.model_selection import train_test_split, GridSearchCV\n",
    "from sklearn.ensemble import BaggingRegressor, GradientBoostingRegressor, RandomForestRegressor, ExtraTreesRegressor\n",
    "from sklearn.metrics import confusion_matrix, ConfusionMatrixDisplay\n",
    "from sklearn.metrics import mean_squared_error\n",
    "\n",
    "\n",
    "\n",
    "from sklearn.pipeline import Pipeline\n",
    "from sklearn.compose import ColumnTransformer, TransformedTargetRegressor\n",
    "\n",
    "from xgboost import XGBRegressor\n",
    "\n",
    "\n",
    "\n",
    "import pickle\n",
    "pd.set_option('display.max_columns', None)\n",
    "pd.set_option('display.max_rows', None)"
   ]
  },
  {
   "cell_type": "markdown",
   "id": "088e7851-56ec-4a8b-abd7-59a1f2723671",
   "metadata": {
    "tags": []
   },
   "source": [
    "# Import"
   ]
  },
  {
   "cell_type": "code",
   "execution_count": 2,
   "id": "d773112d-9a89-4ff5-b452-39136c2c0c9c",
   "metadata": {
    "tags": []
   },
   "outputs": [
    {
     "data": {
      "text/html": [
       "<div>\n",
       "<style scoped>\n",
       "    .dataframe tbody tr th:only-of-type {\n",
       "        vertical-align: middle;\n",
       "    }\n",
       "\n",
       "    .dataframe tbody tr th {\n",
       "        vertical-align: top;\n",
       "    }\n",
       "\n",
       "    .dataframe thead th {\n",
       "        text-align: right;\n",
       "    }\n",
       "</style>\n",
       "<table border=\"1\" class=\"dataframe\">\n",
       "  <thead>\n",
       "    <tr style=\"text-align: right;\">\n",
       "      <th></th>\n",
       "      <th>id</th>\n",
       "      <th>latitude</th>\n",
       "      <th>longitude</th>\n",
       "      <th>price</th>\n",
       "      <th>shared_status</th>\n",
       "      <th>accommodates</th>\n",
       "      <th>accomodation_group</th>\n",
       "      <th>bathrooms</th>\n",
       "      <th>bedrooms</th>\n",
       "      <th>beds_adjusted</th>\n",
       "      <th>neighborhood</th>\n",
       "      <th>has_neighborhood_overview</th>\n",
       "      <th>has_reviews</th>\n",
       "      <th>listing_url</th>\n",
       "      <th>host_in_CO</th>\n",
       "      <th>host_lives_in_neighborhood</th>\n",
       "      <th>host_id</th>\n",
       "      <th>host_name</th>\n",
       "      <th>host_response_time</th>\n",
       "      <th>host_response_rate</th>\n",
       "      <th>host_acceptance_rate</th>\n",
       "      <th>host_is_superhost</th>\n",
       "      <th>host_neighbourhood</th>\n",
       "      <th>host_listings_count</th>\n",
       "      <th>host_total_listings_count</th>\n",
       "      <th>host_has_profile_pic</th>\n",
       "      <th>host_identity_verified</th>\n",
       "      <th>has_host_about</th>\n",
       "      <th>years_hosting</th>\n",
       "      <th>years_of_reviews</th>\n",
       "      <th>license_listed</th>\n",
       "      <th>response_time</th>\n",
       "      <th>host_lives_in_neighborhood.1</th>\n",
       "      <th>name</th>\n",
       "      <th>host_about</th>\n",
       "      <th>description</th>\n",
       "      <th>neighborhood_overview</th>\n",
       "      <th>amenities</th>\n",
       "      <th>minimum_nights</th>\n",
       "      <th>maximum_nights</th>\n",
       "      <th>min_stay_group</th>\n",
       "      <th>max_stay_group</th>\n",
       "      <th>has_availability</th>\n",
       "      <th>instant_bookable</th>\n",
       "      <th>number_of_reviews</th>\n",
       "      <th>number_of_reviews_ltm</th>\n",
       "      <th>number_of_reviews_l30d</th>\n",
       "      <th>review_scores_rating</th>\n",
       "      <th>review_scores_accuracy</th>\n",
       "      <th>review_scores_cleanliness</th>\n",
       "      <th>review_scores_checkin</th>\n",
       "      <th>review_scores_communication</th>\n",
       "      <th>review_scores_location</th>\n",
       "      <th>review_scores_value</th>\n",
       "      <th>reviews_per_month</th>\n",
       "      <th>bike_scores</th>\n",
       "      <th>walk_scores</th>\n",
       "      <th>property_page_links</th>\n",
       "      <th>transit_scores</th>\n",
       "      <th>name_sent_compound</th>\n",
       "      <th>name_sent_pos</th>\n",
       "      <th>name_sent_neg</th>\n",
       "      <th>name_sent_neu</th>\n",
       "      <th>host_sent_compound</th>\n",
       "      <th>host_sent_pos</th>\n",
       "      <th>host_sent_neg</th>\n",
       "      <th>host_sent_neu</th>\n",
       "      <th>description_sent_compound</th>\n",
       "      <th>description_sent_pos</th>\n",
       "      <th>description_sent_neg</th>\n",
       "      <th>description_sent_neu</th>\n",
       "      <th>neighborhood_sent_compound</th>\n",
       "      <th>neighborhood_sent_pos</th>\n",
       "      <th>neighborhood_sent_neg</th>\n",
       "      <th>neighborhood_sent_neu</th>\n",
       "      <th>25*k</th>\n",
       "    </tr>\n",
       "  </thead>\n",
       "  <tbody>\n",
       "    <tr>\n",
       "      <th>0</th>\n",
       "      <td>177</td>\n",
       "      <td>39.69551</td>\n",
       "      <td>-104.92489</td>\n",
       "      <td>79.0</td>\n",
       "      <td>entire home</td>\n",
       "      <td>2</td>\n",
       "      <td>0-2</td>\n",
       "      <td>1.0</td>\n",
       "      <td>1.0</td>\n",
       "      <td>1.0</td>\n",
       "      <td>Virginia Village</td>\n",
       "      <td>1</td>\n",
       "      <td>1</td>\n",
       "      <td>https://www.airbnb.com/rooms/177</td>\n",
       "      <td>1</td>\n",
       "      <td>1</td>\n",
       "      <td>615</td>\n",
       "      <td>Joe</td>\n",
       "      <td>within an hour</td>\n",
       "      <td>1.0</td>\n",
       "      <td>1.00</td>\n",
       "      <td>1.0</td>\n",
       "      <td>Virginia Village</td>\n",
       "      <td>2.0</td>\n",
       "      <td>2.0</td>\n",
       "      <td>1.0</td>\n",
       "      <td>0.0</td>\n",
       "      <td>1</td>\n",
       "      <td>15.0</td>\n",
       "      <td>6.0</td>\n",
       "      <td>1</td>\n",
       "      <td>0.0</td>\n",
       "      <td>1</td>\n",
       "      <td>Tiny Home in the Heart of the City- ECO FRIENDLY</td>\n",
       "      <td>I'm originally from Oklahoma, but have lived i...</td>\n",
       "      <td>160 sq ft + 80 sq ft loft for sleeping, Sleeps...</td>\n",
       "      <td>Quiet neighborhood next to park, creeks and bi...</td>\n",
       "      <td>[\"Hot water\", \"Long term stays allowed\", \"Coff...</td>\n",
       "      <td>29</td>\n",
       "      <td>400</td>\n",
       "      <td>month</td>\n",
       "      <td>long_term</td>\n",
       "      <td>1</td>\n",
       "      <td>0</td>\n",
       "      <td>120</td>\n",
       "      <td>24</td>\n",
       "      <td>0</td>\n",
       "      <td>4.85</td>\n",
       "      <td>4.96</td>\n",
       "      <td>4.89</td>\n",
       "      <td>4.97</td>\n",
       "      <td>4.94</td>\n",
       "      <td>4.85</td>\n",
       "      <td>4.78</td>\n",
       "      <td>1.56</td>\n",
       "      <td>84.0</td>\n",
       "      <td>51.0</td>\n",
       "      <td>https://www.walkscore.com/score/loc/lat=39.695...</td>\n",
       "      <td>37.0</td>\n",
       "      <td>0.6037</td>\n",
       "      <td>0.304</td>\n",
       "      <td>0.0</td>\n",
       "      <td>0.696</td>\n",
       "      <td>0.6948</td>\n",
       "      <td>0.192</td>\n",
       "      <td>0.000</td>\n",
       "      <td>0.808</td>\n",
       "      <td>0.9476</td>\n",
       "      <td>0.153</td>\n",
       "      <td>0.069</td>\n",
       "      <td>0.778</td>\n",
       "      <td>0.0000</td>\n",
       "      <td>0.000</td>\n",
       "      <td>0.000</td>\n",
       "      <td>1.000</td>\n",
       "      <td>4.0</td>\n",
       "    </tr>\n",
       "    <tr>\n",
       "      <th>1</th>\n",
       "      <td>360</td>\n",
       "      <td>39.76758</td>\n",
       "      <td>-105.00316</td>\n",
       "      <td>133.0</td>\n",
       "      <td>entire home</td>\n",
       "      <td>3</td>\n",
       "      <td>3-4</td>\n",
       "      <td>1.0</td>\n",
       "      <td>2.0</td>\n",
       "      <td>2.0</td>\n",
       "      <td>Highland</td>\n",
       "      <td>1</td>\n",
       "      <td>1</td>\n",
       "      <td>https://www.airbnb.com/rooms/360</td>\n",
       "      <td>1</td>\n",
       "      <td>1</td>\n",
       "      <td>666</td>\n",
       "      <td>Jennifer &amp; Giovanni</td>\n",
       "      <td>within an hour</td>\n",
       "      <td>1.0</td>\n",
       "      <td>0.87</td>\n",
       "      <td>1.0</td>\n",
       "      <td>Highland</td>\n",
       "      <td>4.0</td>\n",
       "      <td>4.0</td>\n",
       "      <td>1.0</td>\n",
       "      <td>1.0</td>\n",
       "      <td>1</td>\n",
       "      <td>15.0</td>\n",
       "      <td>4.0</td>\n",
       "      <td>1</td>\n",
       "      <td>0.0</td>\n",
       "      <td>1</td>\n",
       "      <td>Sit in the Peaceful Garden of the Chickadee Co...</td>\n",
       "      <td>We are artists and tinkerers.\\r\\n \\r\\nWe enjoy...</td>\n",
       "      <td>Enjoy the famous Colorado weather and unplug i...</td>\n",
       "      <td>The cottage is located in the center of Lower ...</td>\n",
       "      <td>[\"Coffee maker\", \"Washer\", \"Bedroom comforts\",...</td>\n",
       "      <td>29</td>\n",
       "      <td>35</td>\n",
       "      <td>month</td>\n",
       "      <td>2_months</td>\n",
       "      <td>1</td>\n",
       "      <td>0</td>\n",
       "      <td>174</td>\n",
       "      <td>7</td>\n",
       "      <td>1</td>\n",
       "      <td>4.99</td>\n",
       "      <td>4.99</td>\n",
       "      <td>4.96</td>\n",
       "      <td>5.00</td>\n",
       "      <td>5.00</td>\n",
       "      <td>5.00</td>\n",
       "      <td>4.91</td>\n",
       "      <td>3.26</td>\n",
       "      <td>93.0</td>\n",
       "      <td>90.0</td>\n",
       "      <td>https://www.walkscore.com/score/loc/lat=39.767...</td>\n",
       "      <td>49.0</td>\n",
       "      <td>0.4939</td>\n",
       "      <td>0.242</td>\n",
       "      <td>0.0</td>\n",
       "      <td>0.758</td>\n",
       "      <td>0.9694</td>\n",
       "      <td>0.141</td>\n",
       "      <td>0.023</td>\n",
       "      <td>0.835</td>\n",
       "      <td>0.9814</td>\n",
       "      <td>0.271</td>\n",
       "      <td>0.019</td>\n",
       "      <td>0.709</td>\n",
       "      <td>0.1531</td>\n",
       "      <td>0.025</td>\n",
       "      <td>0.018</td>\n",
       "      <td>0.956</td>\n",
       "      <td>6.0</td>\n",
       "    </tr>\n",
       "    <tr>\n",
       "      <th>2</th>\n",
       "      <td>2361919</td>\n",
       "      <td>39.77960</td>\n",
       "      <td>-105.03859</td>\n",
       "      <td>76.0</td>\n",
       "      <td>entire home</td>\n",
       "      <td>2</td>\n",
       "      <td>0-2</td>\n",
       "      <td>1.0</td>\n",
       "      <td>1.0</td>\n",
       "      <td>1.0</td>\n",
       "      <td>Berkeley</td>\n",
       "      <td>1</td>\n",
       "      <td>1</td>\n",
       "      <td>https://www.airbnb.com/rooms/2361919</td>\n",
       "      <td>1</td>\n",
       "      <td>1</td>\n",
       "      <td>5811115</td>\n",
       "      <td>Annette</td>\n",
       "      <td>within a few hours</td>\n",
       "      <td>1.0</td>\n",
       "      <td>0.81</td>\n",
       "      <td>1.0</td>\n",
       "      <td>Berkeley</td>\n",
       "      <td>5.0</td>\n",
       "      <td>6.0</td>\n",
       "      <td>1.0</td>\n",
       "      <td>0.0</td>\n",
       "      <td>1</td>\n",
       "      <td>10.0</td>\n",
       "      <td>8.0</td>\n",
       "      <td>0</td>\n",
       "      <td>1.0</td>\n",
       "      <td>1</td>\n",
       "      <td>The Cloisters at Berkeley</td>\n",
       "      <td>I love people of all ages and types, dogs, lon...</td>\n",
       "      <td>A private studio apartment in an unbeatable ne...</td>\n",
       "      <td>Boutiques, bars, restaurants galore! Highlands...</td>\n",
       "      <td>[\"Hot water\", \"Long term stays allowed\", \"Coff...</td>\n",
       "      <td>30</td>\n",
       "      <td>1125</td>\n",
       "      <td>month</td>\n",
       "      <td>long_term</td>\n",
       "      <td>1</td>\n",
       "      <td>0</td>\n",
       "      <td>43</td>\n",
       "      <td>3</td>\n",
       "      <td>0</td>\n",
       "      <td>4.67</td>\n",
       "      <td>4.74</td>\n",
       "      <td>4.56</td>\n",
       "      <td>4.67</td>\n",
       "      <td>4.60</td>\n",
       "      <td>4.93</td>\n",
       "      <td>4.60</td>\n",
       "      <td>0.40</td>\n",
       "      <td>76.0</td>\n",
       "      <td>81.0</td>\n",
       "      <td>https://www.walkscore.com/score/loc/lat=39.779...</td>\n",
       "      <td>34.0</td>\n",
       "      <td>0.0000</td>\n",
       "      <td>0.000</td>\n",
       "      <td>0.0</td>\n",
       "      <td>1.000</td>\n",
       "      <td>0.9769</td>\n",
       "      <td>0.278</td>\n",
       "      <td>0.000</td>\n",
       "      <td>0.722</td>\n",
       "      <td>0.9269</td>\n",
       "      <td>0.150</td>\n",
       "      <td>0.000</td>\n",
       "      <td>0.850</td>\n",
       "      <td>0.4333</td>\n",
       "      <td>0.067</td>\n",
       "      <td>0.026</td>\n",
       "      <td>0.907</td>\n",
       "      <td>4.0</td>\n",
       "    </tr>\n",
       "    <tr>\n",
       "      <th>3</th>\n",
       "      <td>2386289</td>\n",
       "      <td>39.76777</td>\n",
       "      <td>-105.03529</td>\n",
       "      <td>150.0</td>\n",
       "      <td>entire home</td>\n",
       "      <td>4</td>\n",
       "      <td>3-4</td>\n",
       "      <td>1.0</td>\n",
       "      <td>1.0</td>\n",
       "      <td>1.0</td>\n",
       "      <td>West Highland</td>\n",
       "      <td>1</td>\n",
       "      <td>1</td>\n",
       "      <td>https://www.airbnb.com/rooms/2386289</td>\n",
       "      <td>1</td>\n",
       "      <td>1</td>\n",
       "      <td>184771</td>\n",
       "      <td>Melanie</td>\n",
       "      <td>NaN</td>\n",
       "      <td>NaN</td>\n",
       "      <td>1.00</td>\n",
       "      <td>0.0</td>\n",
       "      <td>West Highland</td>\n",
       "      <td>1.0</td>\n",
       "      <td>2.0</td>\n",
       "      <td>1.0</td>\n",
       "      <td>1.0</td>\n",
       "      <td>1</td>\n",
       "      <td>13.0</td>\n",
       "      <td>8.0</td>\n",
       "      <td>1</td>\n",
       "      <td>4.0</td>\n",
       "      <td>1</td>\n",
       "      <td>Sunny Sky Loft in Highlands</td>\n",
       "      <td>Things I love: dogs, urban gardening, yoga, ho...</td>\n",
       "      <td>Why stay in a stuffy old hotel room when you c...</td>\n",
       "      <td>The neighborhood where the house is located is...</td>\n",
       "      <td>[\"Hot water\", \"Long term stays allowed\", \"Coff...</td>\n",
       "      <td>7</td>\n",
       "      <td>30</td>\n",
       "      <td>week</td>\n",
       "      <td>month</td>\n",
       "      <td>1</td>\n",
       "      <td>0</td>\n",
       "      <td>95</td>\n",
       "      <td>1</td>\n",
       "      <td>0</td>\n",
       "      <td>4.91</td>\n",
       "      <td>4.87</td>\n",
       "      <td>4.89</td>\n",
       "      <td>4.96</td>\n",
       "      <td>4.97</td>\n",
       "      <td>4.93</td>\n",
       "      <td>4.83</td>\n",
       "      <td>0.94</td>\n",
       "      <td>75.0</td>\n",
       "      <td>86.0</td>\n",
       "      <td>https://www.walkscore.com/score/loc/lat=39.767...</td>\n",
       "      <td>39.0</td>\n",
       "      <td>0.4215</td>\n",
       "      <td>0.412</td>\n",
       "      <td>0.0</td>\n",
       "      <td>0.588</td>\n",
       "      <td>0.9716</td>\n",
       "      <td>0.247</td>\n",
       "      <td>0.000</td>\n",
       "      <td>0.753</td>\n",
       "      <td>0.7761</td>\n",
       "      <td>0.067</td>\n",
       "      <td>0.023</td>\n",
       "      <td>0.910</td>\n",
       "      <td>0.9595</td>\n",
       "      <td>0.138</td>\n",
       "      <td>0.023</td>\n",
       "      <td>0.839</td>\n",
       "      <td>7.0</td>\n",
       "    </tr>\n",
       "    <tr>\n",
       "      <th>4</th>\n",
       "      <td>4992412</td>\n",
       "      <td>39.76822</td>\n",
       "      <td>-105.00249</td>\n",
       "      <td>73.0</td>\n",
       "      <td>private room</td>\n",
       "      <td>2</td>\n",
       "      <td>0-2</td>\n",
       "      <td>2.0</td>\n",
       "      <td>1.0</td>\n",
       "      <td>1.0</td>\n",
       "      <td>Highland</td>\n",
       "      <td>1</td>\n",
       "      <td>0</td>\n",
       "      <td>https://www.airbnb.com/rooms/4992412</td>\n",
       "      <td>1</td>\n",
       "      <td>1</td>\n",
       "      <td>5181201</td>\n",
       "      <td>Danno &amp; Rachel</td>\n",
       "      <td>NaN</td>\n",
       "      <td>NaN</td>\n",
       "      <td>0.00</td>\n",
       "      <td>0.0</td>\n",
       "      <td>Highland</td>\n",
       "      <td>3.0</td>\n",
       "      <td>4.0</td>\n",
       "      <td>1.0</td>\n",
       "      <td>1.0</td>\n",
       "      <td>1</td>\n",
       "      <td>10.0</td>\n",
       "      <td>0.0</td>\n",
       "      <td>0</td>\n",
       "      <td>4.0</td>\n",
       "      <td>1</td>\n",
       "      <td>Cozy Cottage in Lo Highlands, 2nd b</td>\n",
       "      <td>Danno, 40- yo professional from Aspen, Colorad...</td>\n",
       "      <td>You are renting the second bedroom of a 2br 2b...</td>\n",
       "      <td>My house is located on the edge of all the act...</td>\n",
       "      <td>[\"Long term stays allowed\", \"Free parking on p...</td>\n",
       "      <td>30</td>\n",
       "      <td>1125</td>\n",
       "      <td>month</td>\n",
       "      <td>long_term</td>\n",
       "      <td>1</td>\n",
       "      <td>0</td>\n",
       "      <td>0</td>\n",
       "      <td>0</td>\n",
       "      <td>0</td>\n",
       "      <td>NaN</td>\n",
       "      <td>NaN</td>\n",
       "      <td>NaN</td>\n",
       "      <td>NaN</td>\n",
       "      <td>NaN</td>\n",
       "      <td>NaN</td>\n",
       "      <td>NaN</td>\n",
       "      <td>NaN</td>\n",
       "      <td>93.0</td>\n",
       "      <td>90.0</td>\n",
       "      <td>https://www.walkscore.com/score/loc/lat=39.768...</td>\n",
       "      <td>49.0</td>\n",
       "      <td>0.0000</td>\n",
       "      <td>0.000</td>\n",
       "      <td>0.0</td>\n",
       "      <td>1.000</td>\n",
       "      <td>0.9049</td>\n",
       "      <td>0.153</td>\n",
       "      <td>0.024</td>\n",
       "      <td>0.822</td>\n",
       "      <td>0.7678</td>\n",
       "      <td>0.090</td>\n",
       "      <td>0.042</td>\n",
       "      <td>0.869</td>\n",
       "      <td>0.8760</td>\n",
       "      <td>0.143</td>\n",
       "      <td>0.000</td>\n",
       "      <td>0.857</td>\n",
       "      <td>3.0</td>\n",
       "    </tr>\n",
       "  </tbody>\n",
       "</table>\n",
       "</div>"
      ],
      "text/plain": [
       "        id  latitude  longitude  price shared_status  accommodates  \\\n",
       "0      177  39.69551 -104.92489   79.0   entire home             2   \n",
       "1      360  39.76758 -105.00316  133.0   entire home             3   \n",
       "2  2361919  39.77960 -105.03859   76.0   entire home             2   \n",
       "3  2386289  39.76777 -105.03529  150.0   entire home             4   \n",
       "4  4992412  39.76822 -105.00249   73.0  private room             2   \n",
       "\n",
       "  accomodation_group  bathrooms  bedrooms  beds_adjusted      neighborhood  \\\n",
       "0                0-2        1.0       1.0            1.0  Virginia Village   \n",
       "1                3-4        1.0       2.0            2.0          Highland   \n",
       "2                0-2        1.0       1.0            1.0          Berkeley   \n",
       "3                3-4        1.0       1.0            1.0     West Highland   \n",
       "4                0-2        2.0       1.0            1.0          Highland   \n",
       "\n",
       "   has_neighborhood_overview  has_reviews  \\\n",
       "0                          1            1   \n",
       "1                          1            1   \n",
       "2                          1            1   \n",
       "3                          1            1   \n",
       "4                          1            0   \n",
       "\n",
       "                            listing_url  host_in_CO  \\\n",
       "0      https://www.airbnb.com/rooms/177           1   \n",
       "1      https://www.airbnb.com/rooms/360           1   \n",
       "2  https://www.airbnb.com/rooms/2361919           1   \n",
       "3  https://www.airbnb.com/rooms/2386289           1   \n",
       "4  https://www.airbnb.com/rooms/4992412           1   \n",
       "\n",
       "   host_lives_in_neighborhood  host_id            host_name  \\\n",
       "0                           1      615                  Joe   \n",
       "1                           1      666  Jennifer & Giovanni   \n",
       "2                           1  5811115              Annette   \n",
       "3                           1   184771              Melanie   \n",
       "4                           1  5181201       Danno & Rachel   \n",
       "\n",
       "   host_response_time  host_response_rate  host_acceptance_rate  \\\n",
       "0      within an hour                 1.0                  1.00   \n",
       "1      within an hour                 1.0                  0.87   \n",
       "2  within a few hours                 1.0                  0.81   \n",
       "3                 NaN                 NaN                  1.00   \n",
       "4                 NaN                 NaN                  0.00   \n",
       "\n",
       "   host_is_superhost host_neighbourhood  host_listings_count  \\\n",
       "0                1.0   Virginia Village                  2.0   \n",
       "1                1.0           Highland                  4.0   \n",
       "2                1.0           Berkeley                  5.0   \n",
       "3                0.0      West Highland                  1.0   \n",
       "4                0.0           Highland                  3.0   \n",
       "\n",
       "   host_total_listings_count  host_has_profile_pic  host_identity_verified  \\\n",
       "0                        2.0                   1.0                     0.0   \n",
       "1                        4.0                   1.0                     1.0   \n",
       "2                        6.0                   1.0                     0.0   \n",
       "3                        2.0                   1.0                     1.0   \n",
       "4                        4.0                   1.0                     1.0   \n",
       "\n",
       "   has_host_about  years_hosting  years_of_reviews  license_listed  \\\n",
       "0               1           15.0               6.0               1   \n",
       "1               1           15.0               4.0               1   \n",
       "2               1           10.0               8.0               0   \n",
       "3               1           13.0               8.0               1   \n",
       "4               1           10.0               0.0               0   \n",
       "\n",
       "   response_time  host_lives_in_neighborhood.1  \\\n",
       "0            0.0                             1   \n",
       "1            0.0                             1   \n",
       "2            1.0                             1   \n",
       "3            4.0                             1   \n",
       "4            4.0                             1   \n",
       "\n",
       "                                                name  \\\n",
       "0   Tiny Home in the Heart of the City- ECO FRIENDLY   \n",
       "1  Sit in the Peaceful Garden of the Chickadee Co...   \n",
       "2                          The Cloisters at Berkeley   \n",
       "3                        Sunny Sky Loft in Highlands   \n",
       "4                Cozy Cottage in Lo Highlands, 2nd b   \n",
       "\n",
       "                                          host_about  \\\n",
       "0  I'm originally from Oklahoma, but have lived i...   \n",
       "1  We are artists and tinkerers.\\r\\n \\r\\nWe enjoy...   \n",
       "2  I love people of all ages and types, dogs, lon...   \n",
       "3  Things I love: dogs, urban gardening, yoga, ho...   \n",
       "4  Danno, 40- yo professional from Aspen, Colorad...   \n",
       "\n",
       "                                         description  \\\n",
       "0  160 sq ft + 80 sq ft loft for sleeping, Sleeps...   \n",
       "1  Enjoy the famous Colorado weather and unplug i...   \n",
       "2  A private studio apartment in an unbeatable ne...   \n",
       "3  Why stay in a stuffy old hotel room when you c...   \n",
       "4  You are renting the second bedroom of a 2br 2b...   \n",
       "\n",
       "                               neighborhood_overview  \\\n",
       "0  Quiet neighborhood next to park, creeks and bi...   \n",
       "1  The cottage is located in the center of Lower ...   \n",
       "2  Boutiques, bars, restaurants galore! Highlands...   \n",
       "3  The neighborhood where the house is located is...   \n",
       "4  My house is located on the edge of all the act...   \n",
       "\n",
       "                                           amenities  minimum_nights  \\\n",
       "0  [\"Hot water\", \"Long term stays allowed\", \"Coff...              29   \n",
       "1  [\"Coffee maker\", \"Washer\", \"Bedroom comforts\",...              29   \n",
       "2  [\"Hot water\", \"Long term stays allowed\", \"Coff...              30   \n",
       "3  [\"Hot water\", \"Long term stays allowed\", \"Coff...               7   \n",
       "4  [\"Long term stays allowed\", \"Free parking on p...              30   \n",
       "\n",
       "   maximum_nights min_stay_group max_stay_group  has_availability  \\\n",
       "0             400          month      long_term                 1   \n",
       "1              35          month       2_months                 1   \n",
       "2            1125          month      long_term                 1   \n",
       "3              30           week          month                 1   \n",
       "4            1125          month      long_term                 1   \n",
       "\n",
       "   instant_bookable  number_of_reviews  number_of_reviews_ltm  \\\n",
       "0                 0                120                     24   \n",
       "1                 0                174                      7   \n",
       "2                 0                 43                      3   \n",
       "3                 0                 95                      1   \n",
       "4                 0                  0                      0   \n",
       "\n",
       "   number_of_reviews_l30d  review_scores_rating  review_scores_accuracy  \\\n",
       "0                       0                  4.85                    4.96   \n",
       "1                       1                  4.99                    4.99   \n",
       "2                       0                  4.67                    4.74   \n",
       "3                       0                  4.91                    4.87   \n",
       "4                       0                   NaN                     NaN   \n",
       "\n",
       "   review_scores_cleanliness  review_scores_checkin  \\\n",
       "0                       4.89                   4.97   \n",
       "1                       4.96                   5.00   \n",
       "2                       4.56                   4.67   \n",
       "3                       4.89                   4.96   \n",
       "4                        NaN                    NaN   \n",
       "\n",
       "   review_scores_communication  review_scores_location  review_scores_value  \\\n",
       "0                         4.94                    4.85                 4.78   \n",
       "1                         5.00                    5.00                 4.91   \n",
       "2                         4.60                    4.93                 4.60   \n",
       "3                         4.97                    4.93                 4.83   \n",
       "4                          NaN                     NaN                  NaN   \n",
       "\n",
       "   reviews_per_month  bike_scores  walk_scores  \\\n",
       "0               1.56         84.0         51.0   \n",
       "1               3.26         93.0         90.0   \n",
       "2               0.40         76.0         81.0   \n",
       "3               0.94         75.0         86.0   \n",
       "4                NaN         93.0         90.0   \n",
       "\n",
       "                                 property_page_links  transit_scores  \\\n",
       "0  https://www.walkscore.com/score/loc/lat=39.695...            37.0   \n",
       "1  https://www.walkscore.com/score/loc/lat=39.767...            49.0   \n",
       "2  https://www.walkscore.com/score/loc/lat=39.779...            34.0   \n",
       "3  https://www.walkscore.com/score/loc/lat=39.767...            39.0   \n",
       "4  https://www.walkscore.com/score/loc/lat=39.768...            49.0   \n",
       "\n",
       "   name_sent_compound  name_sent_pos  name_sent_neg  name_sent_neu  \\\n",
       "0              0.6037          0.304            0.0          0.696   \n",
       "1              0.4939          0.242            0.0          0.758   \n",
       "2              0.0000          0.000            0.0          1.000   \n",
       "3              0.4215          0.412            0.0          0.588   \n",
       "4              0.0000          0.000            0.0          1.000   \n",
       "\n",
       "   host_sent_compound  host_sent_pos  host_sent_neg  host_sent_neu  \\\n",
       "0              0.6948          0.192          0.000          0.808   \n",
       "1              0.9694          0.141          0.023          0.835   \n",
       "2              0.9769          0.278          0.000          0.722   \n",
       "3              0.9716          0.247          0.000          0.753   \n",
       "4              0.9049          0.153          0.024          0.822   \n",
       "\n",
       "   description_sent_compound  description_sent_pos  description_sent_neg  \\\n",
       "0                     0.9476                 0.153                 0.069   \n",
       "1                     0.9814                 0.271                 0.019   \n",
       "2                     0.9269                 0.150                 0.000   \n",
       "3                     0.7761                 0.067                 0.023   \n",
       "4                     0.7678                 0.090                 0.042   \n",
       "\n",
       "   description_sent_neu  neighborhood_sent_compound  neighborhood_sent_pos  \\\n",
       "0                 0.778                      0.0000                  0.000   \n",
       "1                 0.709                      0.1531                  0.025   \n",
       "2                 0.850                      0.4333                  0.067   \n",
       "3                 0.910                      0.9595                  0.138   \n",
       "4                 0.869                      0.8760                  0.143   \n",
       "\n",
       "   neighborhood_sent_neg  neighborhood_sent_neu  25*k  \n",
       "0                  0.000                  1.000   4.0  \n",
       "1                  0.018                  0.956   6.0  \n",
       "2                  0.026                  0.907   4.0  \n",
       "3                  0.023                  0.839   7.0  \n",
       "4                  0.000                  0.857   3.0  "
      ]
     },
     "execution_count": 2,
     "metadata": {},
     "output_type": "execute_result"
    }
   ],
   "source": [
    "df = pd.read_csv('../data/1500_sentiment_api.csv')\n",
    "df.head(5)"
   ]
  },
  {
   "cell_type": "code",
   "execution_count": 3,
   "id": "7025c01b-118f-475d-a1af-fc5e4a891250",
   "metadata": {},
   "outputs": [
    {
     "data": {
      "text/plain": [
       "Index(['id', 'latitude', 'longitude', 'price', 'shared_status', 'accommodates',\n",
       "       'accomodation_group', 'bathrooms', 'bedrooms', 'beds_adjusted',\n",
       "       'neighborhood', 'has_neighborhood_overview', 'has_reviews',\n",
       "       'listing_url', 'host_in_CO', 'host_lives_in_neighborhood', 'host_id',\n",
       "       'host_name', 'host_response_time', 'host_response_rate',\n",
       "       'host_acceptance_rate', 'host_is_superhost', 'host_neighbourhood',\n",
       "       'host_listings_count', 'host_total_listings_count',\n",
       "       'host_has_profile_pic', 'host_identity_verified', 'has_host_about',\n",
       "       'years_hosting', 'years_of_reviews', 'license_listed', 'response_time',\n",
       "       'host_lives_in_neighborhood.1', 'name', 'host_about', 'description',\n",
       "       'neighborhood_overview', 'amenities', 'minimum_nights',\n",
       "       'maximum_nights', 'min_stay_group', 'max_stay_group',\n",
       "       'has_availability', 'instant_bookable', 'number_of_reviews',\n",
       "       'number_of_reviews_ltm', 'number_of_reviews_l30d',\n",
       "       'review_scores_rating', 'review_scores_accuracy',\n",
       "       'review_scores_cleanliness', 'review_scores_checkin',\n",
       "       'review_scores_communication', 'review_scores_location',\n",
       "       'review_scores_value', 'reviews_per_month', 'bike_scores',\n",
       "       'walk_scores', 'property_page_links', 'transit_scores',\n",
       "       'name_sent_compound', 'name_sent_pos', 'name_sent_neg', 'name_sent_neu',\n",
       "       'host_sent_compound', 'host_sent_pos', 'host_sent_neg', 'host_sent_neu',\n",
       "       'description_sent_compound', 'description_sent_pos',\n",
       "       'description_sent_neg', 'description_sent_neu',\n",
       "       'neighborhood_sent_compound', 'neighborhood_sent_pos',\n",
       "       'neighborhood_sent_neg', 'neighborhood_sent_neu', '25*k'],\n",
       "      dtype='object')"
      ]
     },
     "execution_count": 3,
     "metadata": {},
     "output_type": "execute_result"
    }
   ],
   "source": [
    "df.columns"
   ]
  },
  {
   "cell_type": "markdown",
   "id": "4ef9e8c0-c5c9-4d8f-96e5-2510fcdb1879",
   "metadata": {
    "tags": []
   },
   "source": [
    "### Creating a model"
   ]
  },
  {
   "cell_type": "code",
   "execution_count": 4,
   "id": "641f2560",
   "metadata": {
    "tags": []
   },
   "outputs": [],
   "source": [
    "X = df[[\n",
    "    'shared_status', \n",
    "    'accommodates',\n",
    "    'bathrooms', \n",
    "    'bedrooms',\n",
    "    'beds_adjusted',\n",
    "    'neighborhood', \n",
    "    'has_neighborhood_overview', \n",
    "    'has_reviews',\n",
    "    'instant_bookable',\n",
    "    'host_lives_in_neighborhood',\n",
    "     'host_is_superhost', \n",
    "    'host_has_profile_pic',\n",
    "    'host_identity_verified', \n",
    "    'has_host_about', \n",
    "    'years_hosting',\n",
    "    'license_listed', \n",
    "    'minimum_nights',\n",
    "    'maximum_nights',\n",
    "     'number_of_reviews',\n",
    "     'bike_scores',\n",
    "    'walk_scores',\n",
    "    'transit_scores',\n",
    "    'host_sent_compound', \n",
    "    'description_sent_compound', \n",
    "    'neighborhood_sent_compound',\n",
    "]]\n",
    "    \n",
    "    \n",
    "\n",
    "\n",
    "y = df['price']"
   ]
  },
  {
   "cell_type": "code",
   "execution_count": 5,
   "id": "727be020-528c-4b97-9bfb-e28438495b67",
   "metadata": {
    "tags": []
   },
   "outputs": [],
   "source": [
    "X_train, X_test, y_train, y_test = train_test_split(X, y, random_state=2022)"
   ]
  },
  {
   "cell_type": "markdown",
   "id": "d72a238d-a1f7-49e1-b55a-fa37942dd49f",
   "metadata": {},
   "source": [
    "# Bagged Extra Trees with skewed data\n",
    "Apparently a transformedtargetregressor works well when the traget is not normally distributed, like my price data "
   ]
  },
  {
   "cell_type": "code",
   "execution_count": 7,
   "id": "482ee6bd",
   "metadata": {},
   "outputs": [],
   "source": [
    "\n",
    "# define the pipeline as before\n",
    "numeric_features = list(X.select_dtypes(include='number').columns)\n",
    "numeric_transformer = Pipeline(steps=[\n",
    "    ('scaler', StandardScaler())])\n",
    "\n",
    "categorical_features = list(X.select_dtypes(include='object').columns)\n",
    "categorical_transformer = Pipeline(steps=[\n",
    "    ('onehot', OneHotEncoder(handle_unknown='ignore'))])\n",
    "\n",
    "preprocessor = ColumnTransformer(\n",
    "    transformers=[\n",
    "        ('num', numeric_transformer, numeric_features),\n",
    "        ('cat', categorical_transformer, categorical_features)])\n",
    "\n",
    "# TransformerTarget with extra trees\n",
    "estimator = TransformedTargetRegressor(\n",
    "    regressor=ExtraTreesRegressor(),\n",
    "    transformer=StandardScaler()\n",
    ")\n",
    "\n",
    "pipe = Pipeline(steps=[('preprocessor', preprocessor),\n",
    "                       ('estimator', estimator)])"
   ]
  },
  {
   "cell_type": "code",
   "execution_count": 8,
   "id": "4d538a1d-3aa4-4437-9655-01e9ed960676",
   "metadata": {
    "tags": []
   },
   "outputs": [
    {
     "data": {
      "text/plain": [
       "Pipeline(steps=[('preprocessor',\n",
       "                 ColumnTransformer(transformers=[('num',\n",
       "                                                  Pipeline(steps=[('scaler',\n",
       "                                                                   StandardScaler())]),\n",
       "                                                  ['accommodates', 'bathrooms',\n",
       "                                                   'bedrooms', 'beds_adjusted',\n",
       "                                                   'has_neighborhood_overview',\n",
       "                                                   'has_reviews',\n",
       "                                                   'instant_bookable',\n",
       "                                                   'host_lives_in_neighborhood',\n",
       "                                                   'host_is_superhost',\n",
       "                                                   'host_has_profile_pic',\n",
       "                                                   'host_identity_verified',\n",
       "                                                   'has_host_about',\n",
       "                                                   'ye...\n",
       "                                                   'number_of_reviews',\n",
       "                                                   'bike_scores', 'walk_scores',\n",
       "                                                   'transit_scores',\n",
       "                                                   'host_sent_compound',\n",
       "                                                   'description_sent_compound',\n",
       "                                                   'neighborhood_sent_compound']),\n",
       "                                                 ('cat',\n",
       "                                                  Pipeline(steps=[('onehot',\n",
       "                                                                   OneHotEncoder(handle_unknown='ignore'))]),\n",
       "                                                  ['shared_status',\n",
       "                                                   'neighborhood'])])),\n",
       "                ('estimator',\n",
       "                 TransformedTargetRegressor(regressor=ExtraTreesRegressor(),\n",
       "                                            transformer=StandardScaler()))])"
      ]
     },
     "execution_count": 8,
     "metadata": {},
     "output_type": "execute_result"
    }
   ],
   "source": [
    "pipe.fit(X_train, y_train)"
   ]
  },
  {
   "cell_type": "code",
   "execution_count": 10,
   "id": "ca554e63-36e4-49fc-bceb-c8f78ad35e8e",
   "metadata": {},
   "outputs": [
    {
     "name": "stdout",
     "output_type": "stream",
     "text": [
      "Train RMSE: 0.46429063765163037\n",
      "Test RMSE: 92.35738360432052\n"
     ]
    }
   ],
   "source": [
    "y_pred_train = pipe.predict(X_train)\n",
    "rmse_train = (mean_squared_error(y_train, y_pred_train))**0.5\n",
    "print(\"Train RMSE:\", rmse_train)\n",
    "\n",
    "y_pred = pipe.predict(X_test)\n",
    "rmse = (mean_squared_error(y_test, y_pred))**0.5\n",
    "print(\"Test RMSE:\", rmse)"
   ]
  },
  {
   "cell_type": "code",
   "execution_count": 11,
   "id": "00017b07-a3e4-45d6-9809-9ad9379f0b0e",
   "metadata": {
    "tags": []
   },
   "outputs": [
    {
     "data": {
      "text/plain": [
       "{'memory': None,\n",
       " 'steps': [('preprocessor',\n",
       "   ColumnTransformer(transformers=[('num',\n",
       "                                    Pipeline(steps=[('scaler', StandardScaler())]),\n",
       "                                    ['accommodates', 'bathrooms', 'bedrooms',\n",
       "                                     'beds_adjusted', 'has_neighborhood_overview',\n",
       "                                     'has_reviews', 'instant_bookable',\n",
       "                                     'host_lives_in_neighborhood',\n",
       "                                     'host_is_superhost', 'host_has_profile_pic',\n",
       "                                     'host_identity_verified', 'has_host_about',\n",
       "                                     'years_hosting', 'license_listed',\n",
       "                                     'minimum_nights', 'maximum_nights',\n",
       "                                     'number_of_reviews', 'bike_scores',\n",
       "                                     'walk_scores', 'transit_scores',\n",
       "                                     'host_sent_compound',\n",
       "                                     'description_sent_compound',\n",
       "                                     'neighborhood_sent_compound']),\n",
       "                                   ('cat',\n",
       "                                    Pipeline(steps=[('onehot',\n",
       "                                                     OneHotEncoder(handle_unknown='ignore'))]),\n",
       "                                    ['shared_status', 'neighborhood'])])),\n",
       "  ('estimator',\n",
       "   TransformedTargetRegressor(regressor=ExtraTreesRegressor(),\n",
       "                              transformer=StandardScaler()))],\n",
       " 'verbose': False,\n",
       " 'preprocessor': ColumnTransformer(transformers=[('num',\n",
       "                                  Pipeline(steps=[('scaler', StandardScaler())]),\n",
       "                                  ['accommodates', 'bathrooms', 'bedrooms',\n",
       "                                   'beds_adjusted', 'has_neighborhood_overview',\n",
       "                                   'has_reviews', 'instant_bookable',\n",
       "                                   'host_lives_in_neighborhood',\n",
       "                                   'host_is_superhost', 'host_has_profile_pic',\n",
       "                                   'host_identity_verified', 'has_host_about',\n",
       "                                   'years_hosting', 'license_listed',\n",
       "                                   'minimum_nights', 'maximum_nights',\n",
       "                                   'number_of_reviews', 'bike_scores',\n",
       "                                   'walk_scores', 'transit_scores',\n",
       "                                   'host_sent_compound',\n",
       "                                   'description_sent_compound',\n",
       "                                   'neighborhood_sent_compound']),\n",
       "                                 ('cat',\n",
       "                                  Pipeline(steps=[('onehot',\n",
       "                                                   OneHotEncoder(handle_unknown='ignore'))]),\n",
       "                                  ['shared_status', 'neighborhood'])]),\n",
       " 'estimator': TransformedTargetRegressor(regressor=ExtraTreesRegressor(),\n",
       "                            transformer=StandardScaler()),\n",
       " 'preprocessor__n_jobs': None,\n",
       " 'preprocessor__remainder': 'drop',\n",
       " 'preprocessor__sparse_threshold': 0.3,\n",
       " 'preprocessor__transformer_weights': None,\n",
       " 'preprocessor__transformers': [('num',\n",
       "   Pipeline(steps=[('scaler', StandardScaler())]),\n",
       "   ['accommodates',\n",
       "    'bathrooms',\n",
       "    'bedrooms',\n",
       "    'beds_adjusted',\n",
       "    'has_neighborhood_overview',\n",
       "    'has_reviews',\n",
       "    'instant_bookable',\n",
       "    'host_lives_in_neighborhood',\n",
       "    'host_is_superhost',\n",
       "    'host_has_profile_pic',\n",
       "    'host_identity_verified',\n",
       "    'has_host_about',\n",
       "    'years_hosting',\n",
       "    'license_listed',\n",
       "    'minimum_nights',\n",
       "    'maximum_nights',\n",
       "    'number_of_reviews',\n",
       "    'bike_scores',\n",
       "    'walk_scores',\n",
       "    'transit_scores',\n",
       "    'host_sent_compound',\n",
       "    'description_sent_compound',\n",
       "    'neighborhood_sent_compound']),\n",
       "  ('cat',\n",
       "   Pipeline(steps=[('onehot', OneHotEncoder(handle_unknown='ignore'))]),\n",
       "   ['shared_status', 'neighborhood'])],\n",
       " 'preprocessor__verbose': False,\n",
       " 'preprocessor__verbose_feature_names_out': True,\n",
       " 'preprocessor__num': Pipeline(steps=[('scaler', StandardScaler())]),\n",
       " 'preprocessor__cat': Pipeline(steps=[('onehot', OneHotEncoder(handle_unknown='ignore'))]),\n",
       " 'preprocessor__num__memory': None,\n",
       " 'preprocessor__num__steps': [('scaler', StandardScaler())],\n",
       " 'preprocessor__num__verbose': False,\n",
       " 'preprocessor__num__scaler': StandardScaler(),\n",
       " 'preprocessor__num__scaler__copy': True,\n",
       " 'preprocessor__num__scaler__with_mean': True,\n",
       " 'preprocessor__num__scaler__with_std': True,\n",
       " 'preprocessor__cat__memory': None,\n",
       " 'preprocessor__cat__steps': [('onehot',\n",
       "   OneHotEncoder(handle_unknown='ignore'))],\n",
       " 'preprocessor__cat__verbose': False,\n",
       " 'preprocessor__cat__onehot': OneHotEncoder(handle_unknown='ignore'),\n",
       " 'preprocessor__cat__onehot__categories': 'auto',\n",
       " 'preprocessor__cat__onehot__drop': None,\n",
       " 'preprocessor__cat__onehot__dtype': numpy.float64,\n",
       " 'preprocessor__cat__onehot__handle_unknown': 'ignore',\n",
       " 'preprocessor__cat__onehot__sparse': True,\n",
       " 'estimator__check_inverse': True,\n",
       " 'estimator__func': None,\n",
       " 'estimator__inverse_func': None,\n",
       " 'estimator__regressor__bootstrap': False,\n",
       " 'estimator__regressor__ccp_alpha': 0.0,\n",
       " 'estimator__regressor__criterion': 'squared_error',\n",
       " 'estimator__regressor__max_depth': None,\n",
       " 'estimator__regressor__max_features': 'auto',\n",
       " 'estimator__regressor__max_leaf_nodes': None,\n",
       " 'estimator__regressor__max_samples': None,\n",
       " 'estimator__regressor__min_impurity_decrease': 0.0,\n",
       " 'estimator__regressor__min_samples_leaf': 1,\n",
       " 'estimator__regressor__min_samples_split': 2,\n",
       " 'estimator__regressor__min_weight_fraction_leaf': 0.0,\n",
       " 'estimator__regressor__n_estimators': 100,\n",
       " 'estimator__regressor__n_jobs': None,\n",
       " 'estimator__regressor__oob_score': False,\n",
       " 'estimator__regressor__random_state': None,\n",
       " 'estimator__regressor__verbose': 0,\n",
       " 'estimator__regressor__warm_start': False,\n",
       " 'estimator__regressor': ExtraTreesRegressor(),\n",
       " 'estimator__transformer__copy': True,\n",
       " 'estimator__transformer__with_mean': True,\n",
       " 'estimator__transformer__with_std': True,\n",
       " 'estimator__transformer': StandardScaler()}"
      ]
     },
     "execution_count": 11,
     "metadata": {},
     "output_type": "execute_result"
    }
   ],
   "source": [
    "pipe.get_params()"
   ]
  },
  {
   "cell_type": "code",
   "execution_count": 12,
   "id": "50b49274-b76a-4299-a6a3-0c184b5f5620",
   "metadata": {},
   "outputs": [],
   "source": [
    "b_params = {\n",
    "    \n",
    "    'estimator__regressor__n_estimators':[100, 200, 300, 400, 500],\n",
    "    'estimator__regressor__max_samples': [.1, .3, .5, .7, 1],\n",
    "    'estimator__regressor__max_features': [8,10,None],\n",
    "    'estimator__regressor__bootstrap': [True]\n",
    "}"
   ]
  },
  {
   "cell_type": "code",
   "execution_count": 13,
   "id": "86f8780a-38f4-4e71-9aef-89d60f798165",
   "metadata": {},
   "outputs": [],
   "source": [
    "gs= GridSearchCV(pipe, param_grid=b_params, cv=5)"
   ]
  },
  {
   "cell_type": "code",
   "execution_count": 14,
   "id": "0523754e-539d-4f0c-9797-5537c931d816",
   "metadata": {},
   "outputs": [
    {
     "data": {
      "text/plain": [
       "GridSearchCV(cv=5,\n",
       "             estimator=Pipeline(steps=[('preprocessor',\n",
       "                                        ColumnTransformer(transformers=[('num',\n",
       "                                                                         Pipeline(steps=[('scaler',\n",
       "                                                                                          StandardScaler())]),\n",
       "                                                                         ['accommodates',\n",
       "                                                                          'bathrooms',\n",
       "                                                                          'bedrooms',\n",
       "                                                                          'beds_adjusted',\n",
       "                                                                          'has_neighborhood_overview',\n",
       "                                                                          'has_reviews',\n",
       "                                                                          'instant_bookable',\n",
       "                                                                          'host_lives_in_neighborhood',\n",
       "                                                                          'host_is_superhost',\n",
       "                                                                          'host_has_profile_pic',\n",
       "                                                                          'host_identity_ve...\n",
       "                                                                         ['shared_status',\n",
       "                                                                          'neighborhood'])])),\n",
       "                                       ('estimator',\n",
       "                                        TransformedTargetRegressor(regressor=ExtraTreesRegressor(),\n",
       "                                                                   transformer=StandardScaler()))]),\n",
       "             param_grid={'estimator__regressor__bootstrap': [True],\n",
       "                         'estimator__regressor__max_features': [8, 10, None],\n",
       "                         'estimator__regressor__max_samples': [0.1, 0.3, 0.5,\n",
       "                                                               0.7, 1],\n",
       "                         'estimator__regressor__n_estimators': [100, 200, 300,\n",
       "                                                                400, 500]})"
      ]
     },
     "execution_count": 14,
     "metadata": {},
     "output_type": "execute_result"
    }
   ],
   "source": [
    "gs.fit(X_train, y_train)"
   ]
  },
  {
   "cell_type": "code",
   "execution_count": 15,
   "id": "467a10fb-73f0-4a3d-9d89-87698fb0ec11",
   "metadata": {},
   "outputs": [
    {
     "data": {
      "text/plain": [
       "{'estimator__regressor__bootstrap': True,\n",
       " 'estimator__regressor__max_features': None,\n",
       " 'estimator__regressor__max_samples': 0.7,\n",
       " 'estimator__regressor__n_estimators': 400}"
      ]
     },
     "execution_count": 15,
     "metadata": {},
     "output_type": "execute_result"
    }
   ],
   "source": [
    "gs.best_params_"
   ]
  },
  {
   "cell_type": "code",
   "execution_count": 16,
   "id": "bba09a97-7b57-4bbd-a42c-a2c0c2babc1c",
   "metadata": {},
   "outputs": [
    {
     "name": "stdout",
     "output_type": "stream",
     "text": [
      "RMSE: 86.89463353313623\n"
     ]
    }
   ],
   "source": [
    "y_pred = gs.predict(X_test)\n",
    "rmse = (mean_squared_error(y_test, y_pred))**0.5\n",
    "print(\"RMSE:\", rmse)\n",
    "# no better than the other models. "
   ]
  },
  {
   "cell_type": "markdown",
   "id": "59d6611e-1972-45aa-bc0f-e491598e4f52",
   "metadata": {},
   "source": [
    "# trying a Bagged Gradient Boost\n",
    "First to see if there is potential"
   ]
  },
  {
   "cell_type": "code",
   "execution_count": null,
   "id": "d6634922-7455-495d-9a05-5a1de467daeb",
   "metadata": {},
   "outputs": [],
   "source": [
    "numeric_features = list(X.select_dtypes(include='number').columns)\n",
    "numeric_transformer = Pipeline(steps=[\n",
    "    ('scaler', StandardScaler())])\n",
    "\n",
    "categorical_features = list(X.select_dtypes(include='object').columns)\n",
    "categorical_transformer = Pipeline(steps=[\n",
    "    ('onehot', OneHotEncoder(handle_unknown='ignore'))])\n",
    "\n",
    "\n",
    "preprocessor = ColumnTransformer(transformers=[\n",
    "    ('num', numeric_transformer, numeric_features),\n",
    "    ('cat', categorical_transformer, categorical_features)\n",
    "])\n",
    "\n",
    "#start with n=10 estimators, just to see how it performs...\n",
    "pipeline = Pipeline(steps=[\n",
    "    ('preprocessor', preprocessor),\n",
    "    ('model', BaggingRegressor(base_estimator=GradientBoostingRegressor(), n_estimators=10))\n",
    "])\n",
    "\n",
    "\n",
    "pipeline.fit(X, y)\n"
   ]
  },
  {
   "cell_type": "code",
   "execution_count": 19,
   "id": "3e65e0b6-649a-4c1a-b0c6-ff38e265765f",
   "metadata": {},
   "outputs": [
    {
     "name": "stdout",
     "output_type": "stream",
     "text": [
      "Train RMSE: 76.79162298411246\n",
      "Test RMSE: 70.82437315297533\n"
     ]
    }
   ],
   "source": [
    "y_pred_train = pipeline.predict(X_train)\n",
    "rmse_train = (mean_squared_error(y_train, y_pred_train))**0.5\n",
    "print(\"Train RMSE:\", rmse_train)\n",
    "\n",
    "y_pred = pipeline.predict(X_test)\n",
    "rmse = (mean_squared_error(y_test, y_pred))**0.5\n",
    "print(\"Test RMSE:\", rmse)\n",
    "#better from the start!!"
   ]
  },
  {
   "cell_type": "code",
   "execution_count": 20,
   "id": "796878e9-6642-4a73-9aa5-2237683216ae",
   "metadata": {},
   "outputs": [
    {
     "data": {
      "text/plain": [
       "<bound method Pipeline.get_params of Pipeline(steps=[('preprocessor',\n",
       "                 ColumnTransformer(transformers=[('num',\n",
       "                                                  Pipeline(steps=[('scaler',\n",
       "                                                                   StandardScaler())]),\n",
       "                                                  ['accommodates', 'bathrooms',\n",
       "                                                   'bedrooms', 'beds_adjusted',\n",
       "                                                   'has_neighborhood_overview',\n",
       "                                                   'has_reviews',\n",
       "                                                   'instant_bookable',\n",
       "                                                   'host_lives_in_neighborhood',\n",
       "                                                   'host_is_superhost',\n",
       "                                                   'host_has_profile_pic',\n",
       "                                                   'host_identity_verified',\n",
       "                                                   'has_host_about',\n",
       "                                                   'ye...\n",
       "                                                   'minimum_nights',\n",
       "                                                   'maximum_nights',\n",
       "                                                   'number_of_reviews',\n",
       "                                                   'bike_scores', 'walk_scores',\n",
       "                                                   'transit_scores',\n",
       "                                                   'host_sent_compound',\n",
       "                                                   'description_sent_compound',\n",
       "                                                   'neighborhood_sent_compound']),\n",
       "                                                 ('cat',\n",
       "                                                  Pipeline(steps=[('onehot',\n",
       "                                                                   OneHotEncoder(handle_unknown='ignore'))]),\n",
       "                                                  ['shared_status',\n",
       "                                                   'neighborhood'])])),\n",
       "                ('model',\n",
       "                 BaggingRegressor(base_estimator=GradientBoostingRegressor()))])>"
      ]
     },
     "execution_count": 20,
     "metadata": {},
     "output_type": "execute_result"
    }
   ],
   "source": [
    "pipeline.get_params"
   ]
  },
  {
   "cell_type": "markdown",
   "id": "7b7490c1-fc49-47f1-96fe-95dc8e5562a7",
   "metadata": {},
   "source": [
    "# Gridsearch to see if we can improve parameters"
   ]
  },
  {
   "cell_type": "code",
   "execution_count": 27,
   "id": "a793ed2d-fd07-4b8f-b16d-6e21083a9389",
   "metadata": {},
   "outputs": [],
   "source": [
    "numeric_features = list(X.select_dtypes(include='number').columns)\n",
    "numeric_transformer = Pipeline(steps=[\n",
    "    ('scaler', StandardScaler())])\n",
    "\n",
    "categorical_features = list(X.select_dtypes(include='object').columns)\n",
    "categorical_transformer = Pipeline(steps=[\n",
    "    ('onehot', OneHotEncoder(handle_unknown='ignore'))])\n",
    "\n",
    "preprocessor = ColumnTransformer(transformers=[\n",
    "    ('num', numeric_transformer, numeric_features),\n",
    "    ('cat', categorical_transformer, categorical_features)])\n",
    "\n",
    "pipeline = Pipeline(steps=[\n",
    "    ('preprocessor', preprocessor),\n",
    "    ('model', BaggingRegressor(base_estimator=GradientBoostingRegressor()))\n",
    "])\n"
   ]
  },
  {
   "cell_type": "code",
   "execution_count": 28,
   "id": "7de57ffb-b085-48df-8166-b561de26fec2",
   "metadata": {},
   "outputs": [],
   "source": [
    "params_GB = {\n",
    "    'model__n_estimators': [10, 50, 100],\n",
    "    'model__base_estimator__learning_rate': [0.1, 0.01],\n",
    "    'model__base_estimator__max_depth': [2, 4, 6],\n",
    "}"
   ]
  },
  {
   "cell_type": "code",
   "execution_count": 29,
   "id": "d3cf8a39-3803-4183-b496-000cf2d1ded8",
   "metadata": {},
   "outputs": [
    {
     "data": {
      "text/plain": [
       "GridSearchCV(cv=5,\n",
       "             estimator=Pipeline(steps=[('preprocessor',\n",
       "                                        ColumnTransformer(transformers=[('num',\n",
       "                                                                         Pipeline(steps=[('scaler',\n",
       "                                                                                          StandardScaler())]),\n",
       "                                                                         ['accommodates',\n",
       "                                                                          'bathrooms',\n",
       "                                                                          'bedrooms',\n",
       "                                                                          'beds_adjusted',\n",
       "                                                                          'has_neighborhood_overview',\n",
       "                                                                          'has_reviews',\n",
       "                                                                          'instant_bookable',\n",
       "                                                                          'host_lives_in_neighborhood',\n",
       "                                                                          'host_is_superhost',\n",
       "                                                                          'host_has_profile_pic',\n",
       "                                                                          'host_identity_ve...\n",
       "                                                                          'neighborhood_sent_compound']),\n",
       "                                                                        ('cat',\n",
       "                                                                         Pipeline(steps=[('onehot',\n",
       "                                                                                          OneHotEncoder(handle_unknown='ignore'))]),\n",
       "                                                                         ['shared_status',\n",
       "                                                                          'neighborhood'])])),\n",
       "                                       ('model',\n",
       "                                        BaggingRegressor(base_estimator=GradientBoostingRegressor()))]),\n",
       "             param_grid={'model__base_estimator__learning_rate': [0.1, 0.01],\n",
       "                         'model__base_estimator__max_depth': [2, 4, 6],\n",
       "                         'model__n_estimators': [10, 50, 100]})"
      ]
     },
     "execution_count": 29,
     "metadata": {},
     "output_type": "execute_result"
    }
   ],
   "source": [
    "grid_search = GridSearchCV(pipeline, param_grid=params_GB, cv=5)\n",
    "grid_search.fit(X, y)"
   ]
  },
  {
   "cell_type": "code",
   "execution_count": 30,
   "id": "61c57bcb-f27f-4be0-ba0d-77506497650c",
   "metadata": {},
   "outputs": [
    {
     "name": "stdout",
     "output_type": "stream",
     "text": [
      "Train RMSE: 68.35204120792483\n",
      "Test RMSE: 63.92548079952287\n"
     ]
    }
   ],
   "source": [
    "y_pred_train = grid_search.predict(X_train)\n",
    "rmse_train = (mean_squared_error(y_train, y_pred_train))**0.5\n",
    "print(\"Train RMSE:\", rmse_train)\n",
    "\n",
    "y_pred = grid_search.predict(X_test)\n",
    "rmse = (mean_squared_error(y_test, y_pred))**0.5\n",
    "print(\"Test RMSE:\", rmse)\n",
    "#bet model yet!!  "
   ]
  },
  {
   "cell_type": "code",
   "execution_count": 31,
   "id": "6a0d0bd9-4bc2-4e36-add3-3f644ae6ea75",
   "metadata": {},
   "outputs": [
    {
     "data": {
      "text/plain": [
       "Pipeline(steps=[('preprocessor',\n",
       "                 ColumnTransformer(transformers=[('num',\n",
       "                                                  Pipeline(steps=[('scaler',\n",
       "                                                                   StandardScaler())]),\n",
       "                                                  ['accommodates', 'bathrooms',\n",
       "                                                   'bedrooms', 'beds_adjusted',\n",
       "                                                   'has_neighborhood_overview',\n",
       "                                                   'has_reviews',\n",
       "                                                   'instant_bookable',\n",
       "                                                   'host_lives_in_neighborhood',\n",
       "                                                   'host_is_superhost',\n",
       "                                                   'host_has_profile_pic',\n",
       "                                                   'host_identity_verified',\n",
       "                                                   'has_host_about',\n",
       "                                                   'ye...\n",
       "                                                   'number_of_reviews',\n",
       "                                                   'bike_scores', 'walk_scores',\n",
       "                                                   'transit_scores',\n",
       "                                                   'host_sent_compound',\n",
       "                                                   'description_sent_compound',\n",
       "                                                   'neighborhood_sent_compound']),\n",
       "                                                 ('cat',\n",
       "                                                  Pipeline(steps=[('onehot',\n",
       "                                                                   OneHotEncoder(handle_unknown='ignore'))]),\n",
       "                                                  ['shared_status',\n",
       "                                                   'neighborhood'])])),\n",
       "                ('model',\n",
       "                 BaggingRegressor(base_estimator=GradientBoostingRegressor(max_depth=4),\n",
       "                                  n_estimators=100))])"
      ]
     },
     "execution_count": 31,
     "metadata": {},
     "output_type": "execute_result"
    }
   ],
   "source": [
    "grid_search.best_estimator_"
   ]
  },
  {
   "cell_type": "code",
   "execution_count": 46,
   "id": "e3d50ae9-f3a7-44bc-acf1-82c9db822d97",
   "metadata": {},
   "outputs": [
    {
     "data": {
      "text/plain": [
       "{'model__base_estimator__learning_rate': 0.1,\n",
       " 'model__base_estimator__max_depth': 4,\n",
       " 'model__n_estimators': 100}"
      ]
     },
     "execution_count": 46,
     "metadata": {},
     "output_type": "execute_result"
    }
   ],
   "source": [
    "grid_search.best_params_"
   ]
  },
  {
   "cell_type": "code",
   "execution_count": 33,
   "id": "2b83444f-b2a0-4b2a-8be6-5b1572ee3fda",
   "metadata": {},
   "outputs": [],
   "source": [
    "# with open('../pickle/bagged_GB.pkl', 'wb') as f:\n",
    "#     pickle.dump(grid_search.best_estimator_, f)"
   ]
  },
  {
   "cell_type": "code",
   "execution_count": 34,
   "id": "b6ca993d-b4fe-4e03-9d23-9ac0955e37b1",
   "metadata": {},
   "outputs": [
    {
     "data": {
      "text/plain": [
       "Pipeline(steps=[('scaler', StandardScaler())])"
      ]
     },
     "execution_count": 34,
     "metadata": {},
     "output_type": "execute_result"
    }
   ],
   "source": [
    "grid_search.best_estimator_.named_steps['preprocessor'].named_transformers_['num']"
   ]
  },
  {
   "cell_type": "code",
   "execution_count": 35,
   "id": "ee2bcf58-c00e-4cc4-8660-08496d80cb7e",
   "metadata": {},
   "outputs": [
    {
     "data": {
      "text/plain": [
       "OneHotEncoder(handle_unknown='ignore')"
      ]
     },
     "execution_count": 35,
     "metadata": {},
     "output_type": "execute_result"
    }
   ],
   "source": [
    "grid_search.best_estimator_.named_steps['preprocessor'].named_transformers_['cat'].named_steps['onehot']"
   ]
  },
  {
   "cell_type": "code",
   "execution_count": 36,
   "id": "7b67830a-18e4-45dd-8a96-fc54a9deb43a",
   "metadata": {},
   "outputs": [
    {
     "data": {
      "text/plain": [
       "array(['accommodates', 'bathrooms', 'bedrooms', 'beds_adjusted',\n",
       "       'has_neighborhood_overview', 'has_reviews', 'instant_bookable',\n",
       "       'host_lives_in_neighborhood', 'host_is_superhost',\n",
       "       'host_has_profile_pic', 'host_identity_verified', 'has_host_about',\n",
       "       'years_hosting', 'license_listed', 'minimum_nights',\n",
       "       'maximum_nights', 'number_of_reviews', 'bike_scores',\n",
       "       'walk_scores', 'transit_scores', 'host_sent_compound',\n",
       "       'description_sent_compound', 'neighborhood_sent_compound'],\n",
       "      dtype=object)"
      ]
     },
     "execution_count": 36,
     "metadata": {},
     "output_type": "execute_result"
    }
   ],
   "source": [
    "# numeric_feature_names=\n",
    "numeric_transformer.get_feature_names_out(numeric_features)\n"
   ]
  },
  {
   "cell_type": "code",
   "execution_count": 37,
   "id": "6b5ed0db-8e41-472b-a6aa-ed0a1fb5947d",
   "metadata": {},
   "outputs": [],
   "source": [
    "all_features = grid_search.best_estimator_[:-1].get_feature_names_out()"
   ]
  },
  {
   "cell_type": "code",
   "execution_count": 38,
   "id": "bbb53347-4d05-4f8d-879c-c14e45d74fc9",
   "metadata": {},
   "outputs": [],
   "source": [
    "bagging_model = grid_search.best_estimator_.named_steps['model']\n",
    "\n",
    "# Access the decision tree models that were trained during the bagging process\n",
    "estimators = bagging_model.estimators_\n",
    "\n",
    "# Get the feature importances for each decision tree model\n",
    "importances = []\n",
    "for estimator in estimators:\n",
    "    importances.append(estimator.feature_importances_)\n",
    "\n",
    "# Average the importance scores across all decision tree models\n",
    "importances = np.mean(importances, axis=0)\n",
    "\n",
    "#chat"
   ]
  },
  {
   "cell_type": "code",
   "execution_count": 39,
   "id": "9fe1042f-9938-4040-9d92-09831f0592de",
   "metadata": {},
   "outputs": [],
   "source": [
    "df_plot = pd.DataFrame({'all_features': all_features,\n",
    "                   'feature_importance': importances})"
   ]
  },
  {
   "cell_type": "code",
   "execution_count": 40,
   "id": "d79b748c-bf41-4cf6-a313-0b4cf7b23ac0",
   "metadata": {},
   "outputs": [
    {
     "data": {
      "text/html": [
       "<div>\n",
       "<style scoped>\n",
       "    .dataframe tbody tr th:only-of-type {\n",
       "        vertical-align: middle;\n",
       "    }\n",
       "\n",
       "    .dataframe tbody tr th {\n",
       "        vertical-align: top;\n",
       "    }\n",
       "\n",
       "    .dataframe thead th {\n",
       "        text-align: right;\n",
       "    }\n",
       "</style>\n",
       "<table border=\"1\" class=\"dataframe\">\n",
       "  <thead>\n",
       "    <tr style=\"text-align: right;\">\n",
       "      <th></th>\n",
       "      <th>all_features</th>\n",
       "      <th>feature_importance</th>\n",
       "    </tr>\n",
       "  </thead>\n",
       "  <tbody>\n",
       "    <tr>\n",
       "      <th>0</th>\n",
       "      <td>num__accommodates</td>\n",
       "      <td>0.091712</td>\n",
       "    </tr>\n",
       "    <tr>\n",
       "      <th>1</th>\n",
       "      <td>num__bathrooms</td>\n",
       "      <td>0.351975</td>\n",
       "    </tr>\n",
       "    <tr>\n",
       "      <th>2</th>\n",
       "      <td>num__bedrooms</td>\n",
       "      <td>0.144889</td>\n",
       "    </tr>\n",
       "    <tr>\n",
       "      <th>3</th>\n",
       "      <td>num__beds_adjusted</td>\n",
       "      <td>0.039489</td>\n",
       "    </tr>\n",
       "    <tr>\n",
       "      <th>4</th>\n",
       "      <td>num__has_neighborhood_overview</td>\n",
       "      <td>0.001725</td>\n",
       "    </tr>\n",
       "  </tbody>\n",
       "</table>\n",
       "</div>"
      ],
      "text/plain": [
       "                     all_features  feature_importance\n",
       "0               num__accommodates            0.091712\n",
       "1                  num__bathrooms            0.351975\n",
       "2                   num__bedrooms            0.144889\n",
       "3              num__beds_adjusted            0.039489\n",
       "4  num__has_neighborhood_overview            0.001725"
      ]
     },
     "execution_count": 40,
     "metadata": {},
     "output_type": "execute_result"
    }
   ],
   "source": [
    "df_plot.head()"
   ]
  },
  {
   "cell_type": "code",
   "execution_count": 41,
   "id": "60568435-aba6-4f06-a453-b2eb23477eed",
   "metadata": {},
   "outputs": [],
   "source": [
    "df_plot['all_features']=df_plot['all_features'].str[5:]\n"
   ]
  },
  {
   "cell_type": "code",
   "execution_count": 42,
   "id": "f52d5d7f-c3c1-4fc4-b74c-1f0263c4b654",
   "metadata": {},
   "outputs": [
    {
     "data": {
      "image/png": "[encoded data removed]",
      "text/plain": [
       "<Figure size 600x600 with 1 Axes>"
      ]
     },
     "metadata": {},
     "output_type": "display_data"
    },
    {
     "data": {
      "text/plain": [
       "''"
      ]
     },
     "execution_count": 42,
     "metadata": {},
     "output_type": "execute_result"
    }
   ],
   "source": [
    "feature_scores = pd.Series(importances, index=df_plot['all_features']).sort_values(ascending=False).head(14)\n",
    "\n",
    "f, ax = plt.subplots(figsize=(6, 6))\n",
    "ax = sns.barplot(x=feature_scores, y=feature_scores.index, data=df, palette='autumn')\n",
    "ax.set_title(\"Top Feature Importance\")\n",
    "ax.set_yticklabels(feature_scores.index)\n",
    "ax.set_xlabel(\"Feature importance score\")\n",
    "ax.set_ylabel(\"Features\")\n",
    "# plt.savefig('../images/bagged_GD_feature_importance.png', bbox_inches='tight')\n",
    "\n",
    "plt.show()\n",
    ";\n"
   ]
  },
  {
   "cell_type": "code",
   "execution_count": 45,
   "id": "4f3caedb-3e3c-43a0-8f1b-26bb3dce638f",
   "metadata": {},
   "outputs": [
    {
     "name": "stderr",
     "output_type": "stream",
     "text": [
      "/Users/carl/opt/anaconda3/lib/python3.9/site-packages/seaborn/_decorators.py:36: FutureWarning: Pass the following variables as keyword args: x, y. From version 0.12, the only valid positional argument will be `data`, and passing other arguments without an explicit keyword will result in an error or misinterpretation.\n",
      "  warnings.warn(\n"
     ]
    },
    {
     "data": {
      "image/png": "[encoded data removed]",
      "text/plain": [
       "<Figure size 640x480 with 1 Axes>"
      ]
     },
     "metadata": {},
     "output_type": "display_data"
    }
   ],
   "source": [
    "#we're here, might as well make a residual plot. This is on the test data. \n",
    "y_predz = grid_search.predict(X_test)\n",
    "\n",
    "\n",
    "sns.residplot(y_predz, y_test, lowess=True, color=\"g\")\n",
    "plt.xlabel(\"Predicted Values\")\n",
    "plt.ylabel(\"Residuals\")\n",
    "plt.title(\"Residual Plot\")\n",
    "plt.show()\n",
    "\n",
    "#not that good... "
   ]
  },
  {
   "cell_type": "code",
   "execution_count": 44,
   "id": "f05e72c3-0783-4a24-8a28-898a7f3f0950",
   "metadata": {},
   "outputs": [
    {
     "name": "stderr",
     "output_type": "stream",
     "text": [
      "/Users/carl/opt/anaconda3/lib/python3.9/site-packages/seaborn/_decorators.py:36: FutureWarning: Pass the following variables as keyword args: x, y. From version 0.12, the only valid positional argument will be `data`, and passing other arguments without an explicit keyword will result in an error or misinterpretation.\n",
      "  warnings.warn(\n"
     ]
    },
    {
     "data": {
      "image/png": "[encoded data removed]",
      "text/plain": [
       "<Figure size 640x480 with 1 Axes>"
      ]
     },
     "metadata": {},
     "output_type": "display_data"
    }
   ],
   "source": [
    "\n",
    "# train data, just to see \n",
    "y_predict = grid_search.predict(X_train)\n",
    "\n",
    "# Create a residual plot\n",
    "sns.residplot(y_predict, y_train, lowess=True, color=\"g\")\n",
    "plt.xlabel(\"Predicted Values\")\n",
    "plt.ylabel(\"Residuals\")\n",
    "plt.title(\"Residual Plot\")\n",
    "plt.show()"
   ]
  },
  {
   "cell_type": "markdown",
   "id": "5033e265-9026-4926-aa58-8f0072dd9493",
   "metadata": {},
   "source": [
    "# A few parameters were on the upper/lower limits of what was given, let's expained the parameter range"
   ]
  },
  {
   "cell_type": "code",
   "execution_count": 51,
   "id": "a29af969-0a32-4f27-ab2f-4e1f51f3108f",
   "metadata": {},
   "outputs": [],
   "source": [
    "numeric_features2 = list(X.select_dtypes(include='number').columns)\n",
    "numeric_transformer2 = Pipeline(steps=[\n",
    "    ('scaler', StandardScaler())])\n",
    "\n",
    "categorical_features2 = list(X.select_dtypes(include='object').columns)\n",
    "categorical_transformer2 = Pipeline(steps=[\n",
    "    ('onehot', OneHotEncoder(handle_unknown='ignore'))])\n",
    "\n",
    "preprocessor2 = ColumnTransformer(transformers=[\n",
    "    ('num', numeric_transformer2, numeric_features2),\n",
    "    ('cat', categorical_transformer2, categorical_features2)])\n",
    "\n",
    "pipeline2 = Pipeline(steps=[\n",
    "    ('preprocessor', preprocessor2),\n",
    "    ('model', BaggingRegressor(base_estimator=GradientBoostingRegressor()))\n",
    "])\n"
   ]
  },
  {
   "cell_type": "code",
   "execution_count": 52,
   "id": "6beaa864-1e6f-4fb4-a9f9-fda5ea4e02c5",
   "metadata": {},
   "outputs": [],
   "source": [
    "params2 = {\n",
    "    'model__n_estimators': [100, 200, 400],\n",
    "    'model__base_estimator__learning_rate': [0.1],\n",
    "    'model__base_estimator__max_depth': [3, 4, 5],\n",
    "}"
   ]
  },
  {
   "cell_type": "code",
   "execution_count": 53,
   "id": "cf894118-91b3-412b-94b3-e1c6099b14e7",
   "metadata": {},
   "outputs": [
    {
     "data": {
      "text/plain": [
       "GridSearchCV(cv=5,\n",
       "             estimator=Pipeline(steps=[('preprocessor',\n",
       "                                        ColumnTransformer(transformers=[('num',\n",
       "                                                                         Pipeline(steps=[('scaler',\n",
       "                                                                                          StandardScaler())]),\n",
       "                                                                         ['accommodates',\n",
       "                                                                          'bathrooms',\n",
       "                                                                          'bedrooms',\n",
       "                                                                          'beds_adjusted',\n",
       "                                                                          'has_neighborhood_overview',\n",
       "                                                                          'has_reviews',\n",
       "                                                                          'instant_bookable',\n",
       "                                                                          'host_lives_in_neighborhood',\n",
       "                                                                          'host_is_superhost',\n",
       "                                                                          'host_has_profile_pic',\n",
       "                                                                          'host_identity_ve...\n",
       "                                                                          'neighborhood_sent_compound']),\n",
       "                                                                        ('cat',\n",
       "                                                                         Pipeline(steps=[('onehot',\n",
       "                                                                                          OneHotEncoder(handle_unknown='ignore'))]),\n",
       "                                                                         ['shared_status',\n",
       "                                                                          'neighborhood'])])),\n",
       "                                       ('model',\n",
       "                                        BaggingRegressor(base_estimator=GradientBoostingRegressor()))]),\n",
       "             param_grid={'model__base_estimator__learning_rate': [0.1],\n",
       "                         'model__base_estimator__max_depth': [3, 4, 5],\n",
       "                         'model__n_estimators': [100, 200, 400]})"
      ]
     },
     "execution_count": 53,
     "metadata": {},
     "output_type": "execute_result"
    }
   ],
   "source": [
    "grid_search2 = GridSearchCV(pipeline2, param_grid=params2, cv=5)\n",
    "grid_search2.fit(X, y)"
   ]
  },
  {
   "cell_type": "code",
   "execution_count": 76,
   "id": "5c167f76-6755-4bd0-8a03-529503da0bba",
   "metadata": {},
   "outputs": [
    {
     "name": "stdout",
     "output_type": "stream",
     "text": [
      "Train RMSE: 60.56621495034654\n",
      "Test RMSE: 57.60889593374656\n"
     ]
    }
   ],
   "source": [
    "y_pred_train = grid_search2.predict(X_train)\n",
    "rmse_train = (mean_squared_error(y_train, y_pred_train))**0.5\n",
    "print(\"Train RMSE:\", rmse_train)\n",
    "\n",
    "y_pred = grid_search2.predict(X_test)\n",
    "rmse = (mean_squared_error(y_test, y_pred))**0.5\n",
    "print(\"Test RMSE:\", rmse)\n",
    "# better yet!!"
   ]
  },
  {
   "cell_type": "code",
   "execution_count": 63,
   "id": "69fa4bba-e6b4-4808-9bc7-c810fc5957e9",
   "metadata": {},
   "outputs": [
    {
     "data": {
      "text/plain": [
       "Pipeline(steps=[('preprocessor',\n",
       "                 ColumnTransformer(transformers=[('num',\n",
       "                                                  Pipeline(steps=[('scaler',\n",
       "                                                                   StandardScaler())]),\n",
       "                                                  ['accommodates', 'bathrooms',\n",
       "                                                   'bedrooms', 'beds_adjusted',\n",
       "                                                   'has_neighborhood_overview',\n",
       "                                                   'has_reviews',\n",
       "                                                   'instant_bookable',\n",
       "                                                   'host_lives_in_neighborhood',\n",
       "                                                   'host_is_superhost',\n",
       "                                                   'host_has_profile_pic',\n",
       "                                                   'host_identity_verified',\n",
       "                                                   'has_host_about',\n",
       "                                                   'ye...\n",
       "                                                   'number_of_reviews',\n",
       "                                                   'bike_scores', 'walk_scores',\n",
       "                                                   'transit_scores',\n",
       "                                                   'host_sent_compound',\n",
       "                                                   'description_sent_compound',\n",
       "                                                   'neighborhood_sent_compound']),\n",
       "                                                 ('cat',\n",
       "                                                  Pipeline(steps=[('onehot',\n",
       "                                                                   OneHotEncoder(handle_unknown='ignore'))]),\n",
       "                                                  ['shared_status',\n",
       "                                                   'neighborhood'])])),\n",
       "                ('model',\n",
       "                 BaggingRegressor(base_estimator=GradientBoostingRegressor(max_depth=5),\n",
       "                                  n_estimators=400))])"
      ]
     },
     "execution_count": 63,
     "metadata": {},
     "output_type": "execute_result"
    }
   ],
   "source": [
    "grid_search2.best_estimator_"
   ]
  },
  {
   "cell_type": "code",
   "execution_count": 64,
   "id": "6c6c6fbc-b04f-4ac5-bd74-6c2dec6476b4",
   "metadata": {},
   "outputs": [
    {
     "data": {
      "text/plain": [
       "{'model__base_estimator__learning_rate': 0.1,\n",
       " 'model__base_estimator__max_depth': 5,\n",
       " 'model__n_estimators': 400}"
      ]
     },
     "execution_count": 64,
     "metadata": {},
     "output_type": "execute_result"
    }
   ],
   "source": [
    "grid_search2.best_params_"
   ]
  },
  {
   "cell_type": "code",
   "execution_count": 33,
   "id": "b1b14dd3-eb06-469e-8910-7cce913a4a61",
   "metadata": {},
   "outputs": [],
   "source": [
    "# with open('../pickle/bagged_GB.pkl', 'wb') as f:\n",
    "#     pickle.dump(grid_search.best_estimator_, f)"
   ]
  },
  {
   "cell_type": "code",
   "execution_count": 65,
   "id": "b38bf100-bcfd-48c6-b231-af2125467254",
   "metadata": {},
   "outputs": [
    {
     "data": {
      "text/plain": [
       "Pipeline(steps=[('scaler', StandardScaler())])"
      ]
     },
     "execution_count": 65,
     "metadata": {},
     "output_type": "execute_result"
    }
   ],
   "source": [
    "grid_search2.best_estimator_.named_steps['preprocessor'].named_transformers_['num']"
   ]
  },
  {
   "cell_type": "code",
   "execution_count": 66,
   "id": "78f21a3e-009e-417f-b04f-c6d714c5bffb",
   "metadata": {},
   "outputs": [
    {
     "data": {
      "text/plain": [
       "OneHotEncoder(handle_unknown='ignore')"
      ]
     },
     "execution_count": 66,
     "metadata": {},
     "output_type": "execute_result"
    }
   ],
   "source": [
    "grid_search2.best_estimator_.named_steps['preprocessor'].named_transformers_['cat'].named_steps['onehot']"
   ]
  },
  {
   "cell_type": "code",
   "execution_count": 67,
   "id": "f610d5b4-0ea3-4007-877b-715ed5a17a8c",
   "metadata": {},
   "outputs": [
    {
     "data": {
      "text/plain": [
       "array(['accommodates', 'bathrooms', 'bedrooms', 'beds_adjusted',\n",
       "       'has_neighborhood_overview', 'has_reviews', 'instant_bookable',\n",
       "       'host_lives_in_neighborhood', 'host_is_superhost',\n",
       "       'host_has_profile_pic', 'host_identity_verified', 'has_host_about',\n",
       "       'years_hosting', 'license_listed', 'minimum_nights',\n",
       "       'maximum_nights', 'number_of_reviews', 'bike_scores',\n",
       "       'walk_scores', 'transit_scores', 'host_sent_compound',\n",
       "       'description_sent_compound', 'neighborhood_sent_compound'],\n",
       "      dtype=object)"
      ]
     },
     "execution_count": 67,
     "metadata": {},
     "output_type": "execute_result"
    }
   ],
   "source": [
    "# numeric_feature_names=\n",
    "numeric_transformer2.get_feature_names_out(numeric_features2)\n"
   ]
  },
  {
   "cell_type": "code",
   "execution_count": 68,
   "id": "435f833a-44d7-4049-b625-7a43bd422476",
   "metadata": {},
   "outputs": [],
   "source": [
    "all_features = grid_search2.best_estimator_[:-1].get_feature_names_out()"
   ]
  },
  {
   "cell_type": "code",
   "execution_count": 69,
   "id": "12655c91-9e9a-44d2-a567-3f3622ef69fa",
   "metadata": {},
   "outputs": [],
   "source": [
    "bagging_model = grid_search2.best_estimator_.named_steps['model']\n",
    "\n",
    "# Access the decision tree models that were trained during the bagging process\n",
    "estimators = bagging_model2.estimators_\n",
    "\n",
    "# Get the feature importances for each decision tree model\n",
    "importances = []\n",
    "for estimator in estimators:\n",
    "    importances.append(estimator.feature_importances_)\n",
    "\n",
    "# Average the importance scores across all decision tree models\n",
    "importances = np.mean(importances, axis=0)\n",
    "\n",
    "#chat"
   ]
  },
  {
   "cell_type": "code",
   "execution_count": 70,
   "id": "d5807944-ebff-44f8-952e-2d0903c9547c",
   "metadata": {},
   "outputs": [],
   "source": [
    "df_plot = pd.DataFrame({'all_features': all_features,\n",
    "                   'feature_importance': importances})"
   ]
  },
  {
   "cell_type": "code",
   "execution_count": 71,
   "id": "1eff25ab-1d7c-4851-b4fb-e72f0dfdb2aa",
   "metadata": {},
   "outputs": [
    {
     "data": {
      "text/html": [
       "<div>\n",
       "<style scoped>\n",
       "    .dataframe tbody tr th:only-of-type {\n",
       "        vertical-align: middle;\n",
       "    }\n",
       "\n",
       "    .dataframe tbody tr th {\n",
       "        vertical-align: top;\n",
       "    }\n",
       "\n",
       "    .dataframe thead th {\n",
       "        text-align: right;\n",
       "    }\n",
       "</style>\n",
       "<table border=\"1\" class=\"dataframe\">\n",
       "  <thead>\n",
       "    <tr style=\"text-align: right;\">\n",
       "      <th></th>\n",
       "      <th>all_features</th>\n",
       "      <th>feature_importance</th>\n",
       "    </tr>\n",
       "  </thead>\n",
       "  <tbody>\n",
       "    <tr>\n",
       "      <th>0</th>\n",
       "      <td>num__accommodates</td>\n",
       "      <td>0.084946</td>\n",
       "    </tr>\n",
       "    <tr>\n",
       "      <th>1</th>\n",
       "      <td>num__bathrooms</td>\n",
       "      <td>0.336897</td>\n",
       "    </tr>\n",
       "    <tr>\n",
       "      <th>2</th>\n",
       "      <td>num__bedrooms</td>\n",
       "      <td>0.128243</td>\n",
       "    </tr>\n",
       "    <tr>\n",
       "      <th>3</th>\n",
       "      <td>num__beds_adjusted</td>\n",
       "      <td>0.039009</td>\n",
       "    </tr>\n",
       "    <tr>\n",
       "      <th>4</th>\n",
       "      <td>num__has_neighborhood_overview</td>\n",
       "      <td>0.002295</td>\n",
       "    </tr>\n",
       "  </tbody>\n",
       "</table>\n",
       "</div>"
      ],
      "text/plain": [
       "                     all_features  feature_importance\n",
       "0               num__accommodates            0.084946\n",
       "1                  num__bathrooms            0.336897\n",
       "2                   num__bedrooms            0.128243\n",
       "3              num__beds_adjusted            0.039009\n",
       "4  num__has_neighborhood_overview            0.002295"
      ]
     },
     "execution_count": 71,
     "metadata": {},
     "output_type": "execute_result"
    }
   ],
   "source": [
    "df_plot.head()"
   ]
  },
  {
   "cell_type": "code",
   "execution_count": 72,
   "id": "3227c9fa-208d-4322-9968-f97aff18cba8",
   "metadata": {},
   "outputs": [],
   "source": [
    "df_plot['all_features']=df_plot['all_features'].str[5:]\n"
   ]
  },
  {
   "cell_type": "code",
   "execution_count": 74,
   "id": "9a356975-419b-42ea-94ab-c5d257c8faa3",
   "metadata": {},
   "outputs": [
    {
     "data": {
      "image/png": "[encoded data removed]",
      "text/plain": [
       "<Figure size 600x600 with 1 Axes>"
      ]
     },
     "metadata": {},
     "output_type": "display_data"
    },
    {
     "data": {
      "text/plain": [
       "''"
      ]
     },
     "execution_count": 74,
     "metadata": {},
     "output_type": "execute_result"
    }
   ],
   "source": [
    "feature_scores = pd.Series(importances, index=df_plot['all_features']).sort_values(ascending=False).head(14)\n",
    "\n",
    "f, ax = plt.subplots(figsize=(6, 6))\n",
    "ax = sns.barplot(x=feature_scores, y=feature_scores.index, data=df, palette='autumn')\n",
    "ax.set_title(\"Top Feature Importance\")\n",
    "ax.set_yticklabels(feature_scores.index)\n",
    "ax.set_xlabel(\"Feature importance score\")\n",
    "ax.set_ylabel(\"Features\")\n",
    "plt.savefig('../images/bagged_GD_final.png', bbox_inches='tight')\n",
    "\n",
    "plt.show()\n",
    ";\n"
   ]
  },
  {
   "cell_type": "code",
   "execution_count": 77,
   "id": "4d4b9748-e5d2-4019-ab8b-2c9877d87af1",
   "metadata": {
    "tags": []
   },
   "outputs": [
    {
     "name": "stderr",
     "output_type": "stream",
     "text": [
      "/Users/carl/opt/anaconda3/lib/python3.9/site-packages/seaborn/_decorators.py:36: FutureWarning: Pass the following variables as keyword args: x, y. From version 0.12, the only valid positional argument will be `data`, and passing other arguments without an explicit keyword will result in an error or misinterpretation.\n",
      "  warnings.warn(\n"
     ]
    },
    {
     "data": {
      "image/png": "[encoded data removed]",
      "text/plain": [
       "<Figure size 640x480 with 1 Axes>"
      ]
     },
     "metadata": {},
     "output_type": "display_data"
    }
   ],
   "source": [
    "#we're here, might as well make a residual plot\n",
    "y_predz = grid_search2.predict(X_test)\n",
    "\n",
    "\n",
    "sns.residplot(y_predz, y_test, lowess=True, color=\"g\")\n",
    "plt.xlabel(\"Predicted Values\")\n",
    "plt.ylabel(\"Residuals\")\n",
    "plt.title(\"Residual Plot\")\n",
    "plt.show()\n",
    "\n",
    "#better"
   ]
  },
  {
   "cell_type": "markdown",
   "id": "a81fc132-2cd3-4fcd-963d-ab80fa0b4044",
   "metadata": {
    "tags": []
   },
   "source": [
    "# Bagged XG Boost\n",
    "XGBoost is a considered \"more advanced\" than Gradient Boost... so maybe this will be even better"
   ]
  },
  {
   "cell_type": "code",
   "execution_count": 80,
   "id": "d3315dc0-9250-473a-abbd-437e0b3f0ef4",
   "metadata": {},
   "outputs": [],
   "source": [
    "numeric_features3 = list(X.select_dtypes(include='number').columns)\n",
    "numeric_transformer3 = Pipeline(steps=[\n",
    "    ('scaler', StandardScaler())])\n",
    "\n",
    "categorical_features3 = list(X.select_dtypes(include='object').columns)\n",
    "categorical_transformer3 = Pipeline(steps=[\n",
    "    ('onehot', OneHotEncoder(handle_unknown='ignore'))])\n",
    "\n",
    "preprocessor3 = ColumnTransformer(transformers=[\n",
    "    ('num', numeric_transformer2, numeric_features2),\n",
    "    ('cat', categorical_transformer2, categorical_features2)])\n",
    "\n",
    "pipeline3 = Pipeline(steps=[\n",
    "    ('preprocessor', preprocessor2),\n",
    "    ('model', BaggingRegressor(base_estimator=XGBRegressor()))\n",
    "])\n"
   ]
  },
  {
   "cell_type": "code",
   "execution_count": 81,
   "id": "00326784-96ea-41e0-aae7-52ac89c49c58",
   "metadata": {},
   "outputs": [
    {
     "data": {
      "text/plain": [
       "Pipeline(steps=[('preprocessor',\n",
       "                 ColumnTransformer(transformers=[('num',\n",
       "                                                  Pipeline(steps=[('scaler',\n",
       "                                                                   StandardScaler())]),\n",
       "                                                  ['accommodates', 'bathrooms',\n",
       "                                                   'bedrooms', 'beds_adjusted',\n",
       "                                                   'has_neighborhood_overview',\n",
       "                                                   'has_reviews',\n",
       "                                                   'instant_bookable',\n",
       "                                                   'host_lives_in_neighborhood',\n",
       "                                                   'host_is_superhost',\n",
       "                                                   'host_has_profile_pic',\n",
       "                                                   'host_identity_verified',\n",
       "                                                   'has_host_about',\n",
       "                                                   'ye...\n",
       "                                                              gpu_id=None,\n",
       "                                                              grow_policy=None,\n",
       "                                                              importance_type=None,\n",
       "                                                              interaction_constraints=None,\n",
       "                                                              learning_rate=None,\n",
       "                                                              max_bin=None,\n",
       "                                                              max_cat_threshold=None,\n",
       "                                                              max_cat_to_onehot=None,\n",
       "                                                              max_delta_step=None,\n",
       "                                                              max_depth=None,\n",
       "                                                              max_leaves=None,\n",
       "                                                              min_child_weight=None,\n",
       "                                                              missing=nan,\n",
       "                                                              monotone_constraints=None,\n",
       "                                                              n_estimators=100,\n",
       "                                                              n_jobs=None,\n",
       "                                                              num_parallel_tree=None,\n",
       "                                                              predictor=None,\n",
       "                                                              random_state=None, ...)))])"
      ]
     },
     "execution_count": 81,
     "metadata": {},
     "output_type": "execute_result"
    }
   ],
   "source": [
    "pipeline3.fit(X_train, y_train)"
   ]
  },
  {
   "cell_type": "code",
   "execution_count": 83,
   "id": "69681467-31f2-4b98-87a3-ed348aee8fbc",
   "metadata": {},
   "outputs": [
    {
     "name": "stdout",
     "output_type": "stream",
     "text": [
      "Train RMSE: 43.839196965679065\n",
      "Test RMSE: 81.43117069187767\n"
     ]
    }
   ],
   "source": [
    "y_pred_train = pipeline3.predict(X_train)\n",
    "rmse_train = (mean_squared_error(y_train, y_pred_train))**0.5\n",
    "print(\"Train RMSE:\", rmse_train)\n",
    "\n",
    "y_pred = pipeline3.predict(X_test)\n",
    "rmse = (mean_squared_error(y_test, y_pred))**0.5\n",
    "print(\"Test RMSE:\", rmse)"
   ]
  },
  {
   "cell_type": "code",
   "execution_count": null,
   "id": "2f2ee312-015e-4164-8e9e-aac6d4734ce9",
   "metadata": {},
   "outputs": [],
   "source": [
    "pipeline3"
   ]
  },
  {
   "cell_type": "code",
   "execution_count": 104,
   "id": "70baee04-be73-424c-a409-46f860f59fa7",
   "metadata": {},
   "outputs": [
    {
     "data": {
      "text/plain": [
       "{'memory': None,\n",
       " 'steps': [('preprocessor',\n",
       "   ColumnTransformer(transformers=[('num',\n",
       "                                    Pipeline(steps=[('scaler', StandardScaler())]),\n",
       "                                    ['accommodates', 'bathrooms', 'bedrooms',\n",
       "                                     'beds_adjusted', 'has_neighborhood_overview',\n",
       "                                     'has_reviews', 'instant_bookable',\n",
       "                                     'host_lives_in_neighborhood',\n",
       "                                     'host_is_superhost', 'host_has_profile_pic',\n",
       "                                     'host_identity_verified', 'has_host_about',\n",
       "                                     'years_hosting', 'license_listed',\n",
       "                                     'minimum_nights', 'maximum_nights',\n",
       "                                     'number_of_reviews', 'bike_scores',\n",
       "                                     'walk_scores', 'transit_scores',\n",
       "                                     'host_sent_compound',\n",
       "                                     'description_sent_compound',\n",
       "                                     'neighborhood_sent_compound']),\n",
       "                                   ('cat',\n",
       "                                    Pipeline(steps=[('onehot',\n",
       "                                                     OneHotEncoder(handle_unknown='ignore'))]),\n",
       "                                    ['shared_status', 'neighborhood'])])),\n",
       "  ('model',\n",
       "   BaggingRegressor(base_estimator=XGBRegressor(base_score=None, booster=None,\n",
       "                                                callbacks=None,\n",
       "                                                colsample_bylevel=None,\n",
       "                                                colsample_bynode=None,\n",
       "                                                colsample_bytree=None,\n",
       "                                                early_stopping_rounds=None,\n",
       "                                                enable_categorical=False,\n",
       "                                                eval_metric=None,\n",
       "                                                feature_types=None, gamma=None,\n",
       "                                                gpu_id=None, grow_policy=None,\n",
       "                                                importance_type=None,\n",
       "                                                interaction_constraints=None,\n",
       "                                                learning_rate=None, max_bin=None,\n",
       "                                                max_cat_threshold=None,\n",
       "                                                max_cat_to_onehot=None,\n",
       "                                                max_delta_step=None,\n",
       "                                                max_depth=None, max_leaves=None,\n",
       "                                                min_child_weight=None, missing=nan,\n",
       "                                                monotone_constraints=None,\n",
       "                                                n_estimators=100, n_jobs=None,\n",
       "                                                num_parallel_tree=None,\n",
       "                                                predictor=None, random_state=None, ...)))],\n",
       " 'verbose': False,\n",
       " 'preprocessor': ColumnTransformer(transformers=[('num',\n",
       "                                  Pipeline(steps=[('scaler', StandardScaler())]),\n",
       "                                  ['accommodates', 'bathrooms', 'bedrooms',\n",
       "                                   'beds_adjusted', 'has_neighborhood_overview',\n",
       "                                   'has_reviews', 'instant_bookable',\n",
       "                                   'host_lives_in_neighborhood',\n",
       "                                   'host_is_superhost', 'host_has_profile_pic',\n",
       "                                   'host_identity_verified', 'has_host_about',\n",
       "                                   'years_hosting', 'license_listed',\n",
       "                                   'minimum_nights', 'maximum_nights',\n",
       "                                   'number_of_reviews', 'bike_scores',\n",
       "                                   'walk_scores', 'transit_scores',\n",
       "                                   'host_sent_compound',\n",
       "                                   'description_sent_compound',\n",
       "                                   'neighborhood_sent_compound']),\n",
       "                                 ('cat',\n",
       "                                  Pipeline(steps=[('onehot',\n",
       "                                                   OneHotEncoder(handle_unknown='ignore'))]),\n",
       "                                  ['shared_status', 'neighborhood'])]),\n",
       " 'model': BaggingRegressor(base_estimator=XGBRegressor(base_score=None, booster=None,\n",
       "                                              callbacks=None,\n",
       "                                              colsample_bylevel=None,\n",
       "                                              colsample_bynode=None,\n",
       "                                              colsample_bytree=None,\n",
       "                                              early_stopping_rounds=None,\n",
       "                                              enable_categorical=False,\n",
       "                                              eval_metric=None,\n",
       "                                              feature_types=None, gamma=None,\n",
       "                                              gpu_id=None, grow_policy=None,\n",
       "                                              importance_type=None,\n",
       "                                              interaction_constraints=None,\n",
       "                                              learning_rate=None, max_bin=None,\n",
       "                                              max_cat_threshold=None,\n",
       "                                              max_cat_to_onehot=None,\n",
       "                                              max_delta_step=None,\n",
       "                                              max_depth=None, max_leaves=None,\n",
       "                                              min_child_weight=None, missing=nan,\n",
       "                                              monotone_constraints=None,\n",
       "                                              n_estimators=100, n_jobs=None,\n",
       "                                              num_parallel_tree=None,\n",
       "                                              predictor=None, random_state=None, ...)),\n",
       " 'preprocessor__n_jobs': None,\n",
       " 'preprocessor__remainder': 'drop',\n",
       " 'preprocessor__sparse_threshold': 0.3,\n",
       " 'preprocessor__transformer_weights': None,\n",
       " 'preprocessor__transformers': [('num',\n",
       "   Pipeline(steps=[('scaler', StandardScaler())]),\n",
       "   ['accommodates',\n",
       "    'bathrooms',\n",
       "    'bedrooms',\n",
       "    'beds_adjusted',\n",
       "    'has_neighborhood_overview',\n",
       "    'has_reviews',\n",
       "    'instant_bookable',\n",
       "    'host_lives_in_neighborhood',\n",
       "    'host_is_superhost',\n",
       "    'host_has_profile_pic',\n",
       "    'host_identity_verified',\n",
       "    'has_host_about',\n",
       "    'years_hosting',\n",
       "    'license_listed',\n",
       "    'minimum_nights',\n",
       "    'maximum_nights',\n",
       "    'number_of_reviews',\n",
       "    'bike_scores',\n",
       "    'walk_scores',\n",
       "    'transit_scores',\n",
       "    'host_sent_compound',\n",
       "    'description_sent_compound',\n",
       "    'neighborhood_sent_compound']),\n",
       "  ('cat',\n",
       "   Pipeline(steps=[('onehot', OneHotEncoder(handle_unknown='ignore'))]),\n",
       "   ['shared_status', 'neighborhood'])],\n",
       " 'preprocessor__verbose': False,\n",
       " 'preprocessor__verbose_feature_names_out': True,\n",
       " 'preprocessor__num': Pipeline(steps=[('scaler', StandardScaler())]),\n",
       " 'preprocessor__cat': Pipeline(steps=[('onehot', OneHotEncoder(handle_unknown='ignore'))]),\n",
       " 'preprocessor__num__memory': None,\n",
       " 'preprocessor__num__steps': [('scaler', StandardScaler())],\n",
       " 'preprocessor__num__verbose': False,\n",
       " 'preprocessor__num__scaler': StandardScaler(),\n",
       " 'preprocessor__num__scaler__copy': True,\n",
       " 'preprocessor__num__scaler__with_mean': True,\n",
       " 'preprocessor__num__scaler__with_std': True,\n",
       " 'preprocessor__cat__memory': None,\n",
       " 'preprocessor__cat__steps': [('onehot',\n",
       "   OneHotEncoder(handle_unknown='ignore'))],\n",
       " 'preprocessor__cat__verbose': False,\n",
       " 'preprocessor__cat__onehot': OneHotEncoder(handle_unknown='ignore'),\n",
       " 'preprocessor__cat__onehot__categories': 'auto',\n",
       " 'preprocessor__cat__onehot__drop': None,\n",
       " 'preprocessor__cat__onehot__dtype': numpy.float64,\n",
       " 'preprocessor__cat__onehot__handle_unknown': 'ignore',\n",
       " 'preprocessor__cat__onehot__sparse': True,\n",
       " 'model__base_estimator__objective': 'reg:squarederror',\n",
       " 'model__base_estimator__base_score': None,\n",
       " 'model__base_estimator__booster': None,\n",
       " 'model__base_estimator__callbacks': None,\n",
       " 'model__base_estimator__colsample_bylevel': None,\n",
       " 'model__base_estimator__colsample_bynode': None,\n",
       " 'model__base_estimator__colsample_bytree': None,\n",
       " 'model__base_estimator__early_stopping_rounds': None,\n",
       " 'model__base_estimator__enable_categorical': False,\n",
       " 'model__base_estimator__eval_metric': None,\n",
       " 'model__base_estimator__feature_types': None,\n",
       " 'model__base_estimator__gamma': None,\n",
       " 'model__base_estimator__gpu_id': None,\n",
       " 'model__base_estimator__grow_policy': None,\n",
       " 'model__base_estimator__importance_type': None,\n",
       " 'model__base_estimator__interaction_constraints': None,\n",
       " 'model__base_estimator__learning_rate': None,\n",
       " 'model__base_estimator__max_bin': None,\n",
       " 'model__base_estimator__max_cat_threshold': None,\n",
       " 'model__base_estimator__max_cat_to_onehot': None,\n",
       " 'model__base_estimator__max_delta_step': None,\n",
       " 'model__base_estimator__max_depth': None,\n",
       " 'model__base_estimator__max_leaves': None,\n",
       " 'model__base_estimator__min_child_weight': None,\n",
       " 'model__base_estimator__missing': nan,\n",
       " 'model__base_estimator__monotone_constraints': None,\n",
       " 'model__base_estimator__n_estimators': 100,\n",
       " 'model__base_estimator__n_jobs': None,\n",
       " 'model__base_estimator__num_parallel_tree': None,\n",
       " 'model__base_estimator__predictor': None,\n",
       " 'model__base_estimator__random_state': None,\n",
       " 'model__base_estimator__reg_alpha': None,\n",
       " 'model__base_estimator__reg_lambda': None,\n",
       " 'model__base_estimator__sampling_method': None,\n",
       " 'model__base_estimator__scale_pos_weight': None,\n",
       " 'model__base_estimator__subsample': None,\n",
       " 'model__base_estimator__tree_method': None,\n",
       " 'model__base_estimator__validate_parameters': None,\n",
       " 'model__base_estimator__verbosity': None,\n",
       " 'model__base_estimator': XGBRegressor(base_score=None, booster=None, callbacks=None,\n",
       "              colsample_bylevel=None, colsample_bynode=None,\n",
       "              colsample_bytree=None, early_stopping_rounds=None,\n",
       "              enable_categorical=False, eval_metric=None, feature_types=None,\n",
       "              gamma=None, gpu_id=None, grow_policy=None, importance_type=None,\n",
       "              interaction_constraints=None, learning_rate=None, max_bin=None,\n",
       "              max_cat_threshold=None, max_cat_to_onehot=None,\n",
       "              max_delta_step=None, max_depth=None, max_leaves=None,\n",
       "              min_child_weight=None, missing=nan, monotone_constraints=None,\n",
       "              n_estimators=100, n_jobs=None, num_parallel_tree=None,\n",
       "              predictor=None, random_state=None, ...),\n",
       " 'model__bootstrap': True,\n",
       " 'model__bootstrap_features': False,\n",
       " 'model__max_features': 1.0,\n",
       " 'model__max_samples': 1.0,\n",
       " 'model__n_estimators': 10,\n",
       " 'model__n_jobs': None,\n",
       " 'model__oob_score': False,\n",
       " 'model__random_state': None,\n",
       " 'model__verbose': 0,\n",
       " 'model__warm_start': False}"
      ]
     },
     "execution_count": 104,
     "metadata": {},
     "output_type": "execute_result"
    }
   ],
   "source": [
    "pipeline3.get_params()\n",
    "#see what parameters i can adjust"
   ]
  },
  {
   "cell_type": "code",
   "execution_count": 105,
   "id": "f4bd06d2-940f-4b5c-a851-7d55a2383a42",
   "metadata": {},
   "outputs": [],
   "source": [
    "paramsXG = {\n",
    "    'model__n_estimators': [5, 20, 40],\n",
    "    'model__base_estimator__learning_rate' : [None, 0.1],\n",
    "    'model__base_estimator__max_depth': [None, 3, 5]\n",
    "}"
   ]
  },
  {
   "cell_type": "code",
   "execution_count": 106,
   "id": "f34da562-83c6-4fa7-850e-5a803364d825",
   "metadata": {},
   "outputs": [
    {
     "data": {
      "text/plain": [
       "GridSearchCV(cv=5,\n",
       "             estimator=Pipeline(steps=[('preprocessor',\n",
       "                                        ColumnTransformer(transformers=[('num',\n",
       "                                                                         Pipeline(steps=[('scaler',\n",
       "                                                                                          StandardScaler())]),\n",
       "                                                                         ['accommodates',\n",
       "                                                                          'bathrooms',\n",
       "                                                                          'bedrooms',\n",
       "                                                                          'beds_adjusted',\n",
       "                                                                          'has_neighborhood_overview',\n",
       "                                                                          'has_reviews',\n",
       "                                                                          'instant_bookable',\n",
       "                                                                          'host_lives_in_neighborhood',\n",
       "                                                                          'host_is_superhost',\n",
       "                                                                          'host_has_profile_pic',\n",
       "                                                                          'host_identity_ve...\n",
       "                                                                                     max_cat_to_onehot=None,\n",
       "                                                                                     max_delta_step=None,\n",
       "                                                                                     max_depth=None,\n",
       "                                                                                     max_leaves=None,\n",
       "                                                                                     min_child_weight=None,\n",
       "                                                                                     missing=nan,\n",
       "                                                                                     monotone_constraints=None,\n",
       "                                                                                     n_estimators=100,\n",
       "                                                                                     n_jobs=None,\n",
       "                                                                                     num_parallel_tree=None,\n",
       "                                                                                     predictor=None,\n",
       "                                                                                     random_state=None, ...)))]),\n",
       "             param_grid={'model__base_estimator__learning_rate': [None, 0.1],\n",
       "                         'model__base_estimator__max_depth': [None, 3, 5],\n",
       "                         'model__n_estimators': [5, 20, 40]})"
      ]
     },
     "execution_count": 106,
     "metadata": {},
     "output_type": "execute_result"
    }
   ],
   "source": [
    "gsXG = GridSearchCV(pipeline3, param_grid=paramsXG, cv=5)\n",
    "gsXG.fit(X, y)"
   ]
  },
  {
   "cell_type": "code",
   "execution_count": 107,
   "id": "9358b9d7-2e50-4aa0-8312-656ba50ea68c",
   "metadata": {},
   "outputs": [
    {
     "name": "stdout",
     "output_type": "stream",
     "text": [
      "Train RMSE: 67.9969677772166\n",
      "Test RMSE: 62.551859568291604\n"
     ]
    }
   ],
   "source": [
    "y_pred_train = gsXG.predict(X_train)\n",
    "rmse_train = (mean_squared_error(y_train, y_pred_train))**0.5\n",
    "print(\"Train RMSE:\", rmse_train)\n",
    "\n",
    "y_pred = gsXG.predict(X_test)\n",
    "rmse = (mean_squared_error(y_test, y_pred))**0.5\n",
    "print(\"Test RMSE:\", rmse)"
   ]
  },
  {
   "cell_type": "code",
   "execution_count": 130,
   "id": "9e61d783-9345-496c-8c28-468ce8db674d",
   "metadata": {},
   "outputs": [
    {
     "data": {
      "image/png": "[encoded data removed]",
      "text/plain": [
       "<Figure size 1000x600 with 1 Axes>"
      ]
     },
     "metadata": {},
     "output_type": "display_data"
    }
   ],
   "source": [
    "# Get the best model from GridSearchCV\n",
    "best_model = gsXG.best_estimator_.named_steps['model']\n",
    "\n",
    "# Get feature importances from individual trees in the ensemble\n",
    "importances = None\n",
    "for estimator in best_model.estimators_:\n",
    "    if importances is None:\n",
    "        importances = estimator.feature_importances_\n",
    "    else:\n",
    "        importances += estimator.feature_importances_\n",
    "\n",
    "# Normalize the importances so they sum to 1\n",
    "importances /= len(best_model.estimators_)\n",
    "\n",
    "# Get feature names\n",
    "preprocessor = gsXG.best_estimator_.named_steps['preprocessor']\n",
    "num_features = preprocessor.transformers_[0][2]\n",
    "cat_features = preprocessor.transformers_[1][2]\n",
    "feature_names = num_features + list(preprocessor.named_transformers_['cat'].named_steps['onehot'].get_feature_names(cat_features))\n",
    "\n",
    "# Create a dictionary of feature names and importances\n",
    "feature_importances = dict(zip(feature_names, importances))\n",
    "\n",
    "# Sort the dictionary by importance\n",
    "sorted_feature_importances = sorted(feature_importances.items(), key=lambda x: x[1], reverse=True)[:15]\n",
    "\n",
    "# Plot the top 15 feature importances\n",
    "plt.figure(figsize=(10, 6))\n",
    "plt.bar([x[0] for x in sorted_feature_importances], [x[1] for x in sorted_feature_importances], bottom=sum([x[1] for x in sorted_feature_importances]), color='blue')\n",
    "plt.xticks(rotation=90)\n",
    "plt.ylabel('Importance')\n",
    "plt.show()"
   ]
  },
  {
   "cell_type": "code",
   "execution_count": 166,
   "id": "cda8f121-7278-4134-96c8-b4b31ea2c8de",
   "metadata": {},
   "outputs": [
    {
     "data": {
      "text/plain": [
       "{'model__base_estimator__learning_rate': None,\n",
       " 'model__base_estimator__max_depth': 3,\n",
       " 'model__n_estimators': 40}"
      ]
     },
     "execution_count": 166,
     "metadata": {},
     "output_type": "execute_result"
    }
   ],
   "source": [
    "gsXG.best_params_\n",
    "#learning rate of 0?!? that makes no sense to me"
   ]
  },
  {
   "cell_type": "code",
   "execution_count": 169,
   "id": "3da26abe-7911-4f4c-ba26-7178287ba58f",
   "metadata": {},
   "outputs": [],
   "source": [
    "paramsXG_last = {\n",
    "    'model__n_estimators': [40],\n",
    "    'model__base_estimator__learning_rate' : [None, 0.001, 0.005],\n",
    "    'model__base_estimator__max_depth': [4]\n",
    "}"
   ]
  },
  {
   "cell_type": "code",
   "execution_count": 170,
   "id": "c2cefaea-6d88-4549-8f36-8573165e34dd",
   "metadata": {},
   "outputs": [
    {
     "data": {
      "text/plain": [
       "GridSearchCV(cv=5,\n",
       "             estimator=Pipeline(steps=[('preprocessor',\n",
       "                                        ColumnTransformer(transformers=[('num',\n",
       "                                                                         Pipeline(steps=[('scaler',\n",
       "                                                                                          StandardScaler())]),\n",
       "                                                                         ['accommodates',\n",
       "                                                                          'bathrooms',\n",
       "                                                                          'bedrooms',\n",
       "                                                                          'beds_adjusted',\n",
       "                                                                          'has_neighborhood_overview',\n",
       "                                                                          'has_reviews',\n",
       "                                                                          'instant_bookable',\n",
       "                                                                          'host_lives_in_neighborhood',\n",
       "                                                                          'host_is_superhost',\n",
       "                                                                          'host_has_profile_pic',\n",
       "                                                                          'host_identity_ve...\n",
       "                                                                                     max_cat_to_onehot=None,\n",
       "                                                                                     max_delta_step=None,\n",
       "                                                                                     max_depth=None,\n",
       "                                                                                     max_leaves=None,\n",
       "                                                                                     min_child_weight=None,\n",
       "                                                                                     missing=nan,\n",
       "                                                                                     monotone_constraints=None,\n",
       "                                                                                     n_estimators=100,\n",
       "                                                                                     n_jobs=None,\n",
       "                                                                                     num_parallel_tree=None,\n",
       "                                                                                     predictor=None,\n",
       "                                                                                     random_state=None, ...)))]),\n",
       "             param_grid={'model__base_estimator__learning_rate': [None, 0.001,\n",
       "                                                                  0.005],\n",
       "                         'model__base_estimator__max_depth': [4],\n",
       "                         'model__n_estimators': [40]})"
      ]
     },
     "execution_count": 170,
     "metadata": {},
     "output_type": "execute_result"
    }
   ],
   "source": [
    "gsXGl = GridSearchCV(pipeline3, param_grid=paramsXG_last, cv=5)\n",
    "gsXGl.fit(X, y)"
   ]
  },
  {
   "cell_type": "code",
   "execution_count": 171,
   "id": "ff499666-6cfc-42c7-8371-298d5343e6dd",
   "metadata": {},
   "outputs": [
    {
     "name": "stdout",
     "output_type": "stream",
     "text": [
      "Train RMSE: 57.89654633693187\n",
      "Test RMSE: 54.03371101919869\n"
     ]
    }
   ],
   "source": [
    "y_pred_train = gsXGl.predict(X_train)\n",
    "rmse_train = (mean_squared_error(y_train, y_pred_train))**0.5\n",
    "print(\"Train RMSE:\", rmse_train)\n",
    "\n",
    "y_pred = gsXGl.predict(X_test)\n",
    "rmse = (mean_squared_error(y_test, y_pred))**0.5\n",
    "print(\"Test RMSE:\", rmse)"
   ]
  },
  {
   "cell_type": "code",
   "execution_count": 173,
   "id": "58354a6e-bf8c-4ee6-8c80-cb7947d6a337",
   "metadata": {},
   "outputs": [
    {
     "name": "stderr",
     "output_type": "stream",
     "text": [
      "/Users/carl/opt/anaconda3/lib/python3.9/site-packages/sklearn/utils/deprecation.py:87: FutureWarning: Function get_feature_names is deprecated; get_feature_names is deprecated in 1.0 and will be removed in 1.2. Please use get_feature_names_out instead.\n",
      "  warnings.warn(msg, category=FutureWarning)\n"
     ]
    },
    {
     "data": {
      "text/plain": [
       "<Figure size 640x480 with 0 Axes>"
      ]
     },
     "metadata": {},
     "output_type": "display_data"
    },
    {
     "data": {
      "image/png": "[encoded data removed]",
      "text/plain": [
       "<Figure size 600x600 with 1 Axes>"
      ]
     },
     "metadata": {},
     "output_type": "display_data"
    }
   ],
   "source": [
    "best_model = gsXGl.best_estimator_.named_steps['model']\n",
    "\n",
    "# Get feature importances from individual trees in the ensemble\n",
    "importances = None\n",
    "for estimator in best_model.estimators_:\n",
    "    if importances is None:\n",
    "        importances = estimator.feature_importances_\n",
    "    else:\n",
    "        importances += estimator.feature_importances_\n",
    "\n",
    "# Normalize the importances so they sum to 1\n",
    "importances /= len(best_model.estimators_)\n",
    "\n",
    "# Get feature names\n",
    "preprocessor = gsXG.best_estimator_.named_steps['preprocessor']\n",
    "num_features = preprocessor.transformers_[0][2]\n",
    "cat_features = preprocessor.transformers_[1][2]\n",
    "feature_names = num_features + list(preprocessor.named_transformers_['cat'].named_steps['onehot'].get_feature_names(cat_features))\n",
    "\n",
    "# Create a dictionary of feature names and importances\n",
    "feature_importances = dict(zip(feature_names, importances))\n",
    "\n",
    "# Sort the dictionary by importance\n",
    "sorted_feature_importances = sorted(feature_importances.items(), key=lambda x: x[1], reverse=True)[:15]\n",
    "plt.savefig('../images/XG_feature_importance.png', bbox_inches='tight')\n",
    "\n",
    "# Plot the top 15 feature importances\n",
    "plt.figure(figsize=(6, 6))\n",
    "plt.barh([x[0] for x in sorted_feature_importances], [x[1] for x in sorted_feature_importances], left=sum([x[1] for x in sorted_feature_importances]), color='green')\n",
    "plt.xlabel('Importance')\n",
    "plt.gca().invert_yaxis() # invert the y-axis to show largest on top\n",
    "plt.title('XG Boost Top Feature Importances')\n",
    "plt.show()"
   ]
  },
  {
   "cell_type": "code",
   "execution_count": null,
   "id": "6925cc7a-44b7-47d8-9f40-a06d4f0c4cb0",
   "metadata": {},
   "outputs": [
    {
     "data": {
      "image/png": "[encoded data removed]",
      "text/plain": [
       "<Figure size 600x600 with 1 Axes>"
      ]
     },
     "metadata": {},
     "output_type": "display_data"
    }
   ],
   "source": []
  },
  {
   "cell_type": "code",
   "execution_count": 127,
   "id": "4f07feb4-f61a-4037-b1c1-c192511b28c8",
   "metadata": {},
   "outputs": [],
   "source": [
    "with open('../pickle/bagged_xg.pkl', 'wb') as f:\n",
    "    pickle.dump(gsXGl.best_estimator_, f)"
   ]
  },
  {
   "cell_type": "code",
   "execution_count": 172,
   "id": "67347783-5ba7-432e-bcb5-b75da8f6c745",
   "metadata": {},
   "outputs": [
    {
     "data": {
      "text/plain": [
       "{'model__base_estimator__learning_rate': None,\n",
       " 'model__base_estimator__max_depth': 4,\n",
       " 'model__n_estimators': 40}"
      ]
     },
     "execution_count": 172,
     "metadata": {},
     "output_type": "execute_result"
    }
   ],
   "source": [
    "gsXGl.best_params_"
   ]
  },
  {
   "cell_type": "code",
   "execution_count": null,
   "id": "25bab071-0f89-401f-b514-358b362737dd",
   "metadata": {},
   "outputs": [],
   "source": []
  }
 ],
 "metadata": {
  "kernelspec": {
   "display_name": "Python 3 (ipykernel)",
   "language": "python",
   "name": "python3"
  },
  "language_info": {
   "codemirror_mode": {
    "name": "ipython",
    "version": 3
   },
   "file_extension": ".py",
   "mimetype": "text/x-python",
   "name": "python",
   "nbconvert_exporter": "python",
   "pygments_lexer": "ipython3",
   "version": "3.9.13"
  }
 },
 "nbformat": 4,
 "nbformat_minor": 5
}
