{
 "cells": [
  {
   "cell_type": "code",
   "execution_count": null,
   "id": "9f7f8c56-bf9d-4155-8f79-7d56bf99c215",
   "metadata": {},
   "outputs": [],
   "source": [
    "# pip install walkscore-api"
   ]
  },
  {
   "cell_type": "code",
   "execution_count": null,
   "id": "19d3be9d-e351-49d7-a8aa-ea5966c2c080",
   "metadata": {},
   "outputs": [],
   "source": [
    "import pandas as pd\n",
    "from walkscore import WalkScoreAPI\n",
    "\n",
    "pd.set_option('display.max_columns', None)\n",
    "pd.set_option('display.max_rows', None)"
   ]
  },
  {
   "cell_type": "code",
   "execution_count": null,
   "id": "b60fb197-78c0-47a2-83f7-95722d10f6fe",
   "metadata": {},
   "outputs": [],
   "source": [
    "df = pd.read_csv('../data/cleanedall.csv')\n",
    "\n",
    "df.head(2)"
   ]
  },
  {
   "cell_type": "code",
   "execution_count": null,
   "id": "a071b82f-abb5-4162-a9f2-1fd731b4c228",
   "metadata": {},
   "outputs": [],
   "source": [
    "df.shape"
   ]
  },
  {
   "cell_type": "markdown",
   "id": "2e623b0c-07ad-4d68-9887-416360ce651c",
   "metadata": {},
   "source": [
    "# testing on one location"
   ]
  },
  {
   "cell_type": "code",
   "execution_count": null,
   "id": "075ecc4c-72cf-4d0f-80c9-54e57d18cc73",
   "metadata": {},
   "outputs": [],
   "source": [
    "api_key = '[API_KEY]'\n",
    "\n",
    "walkscore_api = WalkScoreAPI(api_key = api_key)"
   ]
  },
  {
   "cell_type": "code",
   "execution_count": null,
   "id": "94b26468-0950-41d8-a2cd-dcc2e20544e9",
   "metadata": {},
   "outputs": [],
   "source": [
    "result = walkscore_api.get_score(latitude = 39.69551, longitude = -104.92489, return_transit_score=True)\n",
    "\n",
    "# the WalkScore for the location\n",
    "result.walk_score"
   ]
  },
  {
   "cell_type": "code",
   "execution_count": null,
   "id": "20f04e72-91c4-43c3-803b-7de0bbda733b",
   "metadata": {},
   "outputs": [],
   "source": [
    "result.walk_description"
   ]
  },
  {
   "cell_type": "code",
   "execution_count": null,
   "id": "b4bc2a9c-0352-4146-b613-0797b6c3b2ce",
   "metadata": {},
   "outputs": [],
   "source": [
    "# the TransitScore for the location\n",
    "result.transit_score\n",
    "\n",
    "#according to forums online, the transit score isn't included with the stanard API...  "
   ]
  },
  {
   "cell_type": "code",
   "execution_count": null,
   "id": "0a477bf4-2470-4001-b50f-abdd8e7605e9",
   "metadata": {},
   "outputs": [],
   "source": [
    "# the BikeScore for the location\n",
    "result.bike_score"
   ]
  },
  {
   "cell_type": "markdown",
   "id": "274576ff-f0c3-4803-aa16-1e0fb9450ada",
   "metadata": {},
   "source": [
    "# run the API loop\n",
    "help from Katie Sylvia"
   ]
  },
  {
   "cell_type": "code",
   "execution_count": null,
   "id": "a6a13444-01f5-4091-995e-a6e2aeeb8ecf",
   "metadata": {},
   "outputs": [],
   "source": [
    "# Extract the latitude and longitude values\n",
    "latitudes = df['latitude']\n",
    "longitudes = df['longitude']\n",
    "\n",
    "# Make API requests to get the walk scores, bike scores, and property page links\n",
    "results = []\n",
    "for lat, long in zip(latitudes, longitudes):\n",
    "    result = walkscore_api.get_score(latitude=lat, longitude=long, return_transit_score=True)\n",
    "    results.append(result)\n",
    "\n",
    "# Extract the bike scores, walk scores, and property page links from the results\n",
    "bike_scores = [result.bike_score for result in results]\n",
    "walk_scores = [result.walk_score for result in results]\n",
    "property_page_links = [result.property_page_link for result in results]\n",
    "transit_scores = [result.transit_score for result in results]\n",
    "\n",
    "# Add the bike scores, walk scores, and property page links to the corresponding rows of the dataframe\n",
    "df['bike_scores'] = bike_scores\n",
    "df['walk_scores'] = walk_scores\n",
    "df['transit_scores'] = transit_scores\n",
    "df['property_page_links'] = property_page_links"
   ]
  },
  {
   "cell_type": "code",
   "execution_count": null,
   "id": "87cccb65-23ad-4150-8a56-bd763ff550c0",
   "metadata": {
    "tags": []
   },
   "outputs": [],
   "source": [
    "df.head()"
   ]
  },
  {
   "cell_type": "code",
   "execution_count": null,
   "id": "a92d2eba-0732-4385-a0c6-8ccabfa71cf0",
   "metadata": {},
   "outputs": [],
   "source": [
    "df.shape"
   ]
  },
  {
   "cell_type": "code",
   "execution_count": null,
   "id": "7af0eced-4bae-4a74-bd01-f783b8f2d6f5",
   "metadata": {},
   "outputs": [],
   "source": [
    "df['bike_scores'].isna().sum()"
   ]
  },
  {
   "cell_type": "code",
   "execution_count": null,
   "id": "e8bb8a69-f0a1-41a3-8333-09d3c6e5db61",
   "metadata": {},
   "outputs": [],
   "source": [
    "df['walk_scores'].isna().sum()"
   ]
  },
  {
   "cell_type": "code",
   "execution_count": null,
   "id": "97730f18-869d-4891-851d-ba1e6f591c6b",
   "metadata": {},
   "outputs": [],
   "source": [
    "df['transit_scores'].isna().sum()"
   ]
  },
  {
   "cell_type": "code",
   "execution_count": null,
   "id": "28c56382-3655-4bcc-94f6-a44b5e0cb8d9",
   "metadata": {
    "tags": []
   },
   "outputs": [],
   "source": [
    "df['transit_scores'].describe()"
   ]
  },
  {
   "cell_type": "code",
   "execution_count": null,
   "id": "e3634941-44e8-4c02-8684-377b03f2ec8d",
   "metadata": {},
   "outputs": [],
   "source": [
    "df.to_csv('../data/mergedAPI2.csv', index=False)"
   ]
  },
  {
   "cell_type": "markdown",
   "id": "90898815-a691-4737-99d5-83a6a328000b",
   "metadata": {
    "tags": []
   },
   "source": [
    "# creating an api df"
   ]
  },
  {
   "cell_type": "code",
   "execution_count": null,
   "id": "e655d2d0-cb6c-4ce2-bba3-0bc5e259188a",
   "metadata": {},
   "outputs": [],
   "source": [
    "api=df[['id', 'latitude', 'longitude','bike_scores', 'walk_scores', 'transit_scores', 'property_page_links']]"
   ]
  },
  {
   "cell_type": "code",
   "execution_count": null,
   "id": "e4d5fda5-2359-469d-b8bd-71ff0ad1957a",
   "metadata": {},
   "outputs": [],
   "source": [
    "api.head()"
   ]
  },
  {
   "cell_type": "code",
   "execution_count": null,
   "id": "0ee051a4-5e23-4f81-b50a-54a2256c3e00",
   "metadata": {},
   "outputs": [],
   "source": [
    "api.to_csv('../data/completed_api.csv', index=False)"
   ]
  }
 ],
 "metadata": {
  "kernelspec": {
   "display_name": "Python 3 (ipykernel)",
   "language": "python",
   "name": "python3"
  },
  "language_info": {
   "codemirror_mode": {
    "name": "ipython",
    "version": 3
   },
   "file_extension": ".py",
   "mimetype": "text/x-python",
   "name": "python",
   "nbconvert_exporter": "python",
   "pygments_lexer": "ipython3",
   "version": "3.9.13"
  }
 },
 "nbformat": 4,
 "nbformat_minor": 5
}
